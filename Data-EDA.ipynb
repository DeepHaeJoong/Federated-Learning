{
 "cells": [
  {
   "cell_type": "code",
   "execution_count": 48,
   "metadata": {},
   "outputs": [],
   "source": [
    "import pandas as pd\n",
    "import glob\n",
    "from datetime import datetime\n",
    "import numpy as np\n",
    "\n",
    "# path = r'data/경진대회_나주시_전력사용량 DATA1' # use your path\n",
    "# all_files = glob.glob(path + \"/*.csv\")\n",
    "\n",
    "# li = []\n",
    "\n",
    "# for filename in all_files:\n",
    "#     df = pd.read_csv(filename, index_col=None, header=0, encoding='euc-kr')\n",
    "#     li.append(df)\n",
    "\n",
    "# frame = pd.concat(li, axis=0, ignore_index=True)"
   ]
  },
  {
   "cell_type": "code",
   "execution_count": 121,
   "metadata": {},
   "outputs": [
    {
     "name": "stderr",
     "output_type": "stream",
     "text": [
      "/usr/anaconda3/lib/python3.7/site-packages/IPython/core/interactiveshell.py:2785: DtypeWarning: Columns (9,10) have mixed types. Specify dtype option on import or set low_memory=False.\n",
      "  interactivity=interactivity, compiler=compiler, result=result)\n"
     ]
    }
   ],
   "source": [
    "# 2017년 ~ 2018년 data 취합\n",
    "\n",
    "path_list = [r'data/경진대회_나주시_전력사용량 DATA1', r'data/경진대회_나주시_전력사용량 DATA2', r'data/경진대회_나주시_전력사용량 DATA3']\n",
    "\n",
    "li = []\n",
    "for path in path_list:\n",
    "    all_files = glob.glob(path + \"/*.csv\")\n",
    "    for filename in all_files:\n",
    "        df = pd.read_csv(filename, index_col=None, header=0, encoding='euc-kr')\n",
    "        li.append(df)\n",
    "\n",
    "frame = pd.concat(li, axis=0, ignore_index=True)"
   ]
  },
  {
   "cell_type": "code",
   "execution_count": 122,
   "metadata": {
    "scrolled": true
   },
   "outputs": [
    {
     "data": {
      "text/html": [
       "<div>\n",
       "<style scoped>\n",
       "    .dataframe tbody tr th:only-of-type {\n",
       "        vertical-align: middle;\n",
       "    }\n",
       "\n",
       "    .dataframe tbody tr th {\n",
       "        vertical-align: top;\n",
       "    }\n",
       "\n",
       "    .dataframe thead th {\n",
       "        text-align: right;\n",
       "    }\n",
       "</style>\n",
       "<table border=\"1\" class=\"dataframe\">\n",
       "  <thead>\n",
       "    <tr style=\"text-align: right;\">\n",
       "      <th></th>\n",
       "      <th>날짜</th>\n",
       "      <th>시간</th>\n",
       "      <th>시/도</th>\n",
       "      <th>시/군/구</th>\n",
       "      <th>읍/면/동</th>\n",
       "      <th>고객(가칭)</th>\n",
       "      <th>계약종별</th>\n",
       "      <th>계약전력</th>\n",
       "      <th>유효전력</th>\n",
       "      <th>지상무효전력</th>\n",
       "      <th>진상무효전력</th>\n",
       "    </tr>\n",
       "  </thead>\n",
       "  <tbody>\n",
       "    <tr>\n",
       "      <th>0</th>\n",
       "      <td>20170901</td>\n",
       "      <td>15</td>\n",
       "      <td>전라남도</td>\n",
       "      <td>나주시</td>\n",
       "      <td>AA11동</td>\n",
       "      <td>AA279호</td>\n",
       "      <td>일반용(갑)저압</td>\n",
       "      <td>10</td>\n",
       "      <td>0.522</td>\n",
       "      <td>0.417</td>\n",
       "      <td>0</td>\n",
       "    </tr>\n",
       "    <tr>\n",
       "      <th>1</th>\n",
       "      <td>20170901</td>\n",
       "      <td>15</td>\n",
       "      <td>전라남도</td>\n",
       "      <td>나주시</td>\n",
       "      <td>AA1동</td>\n",
       "      <td>AA278호</td>\n",
       "      <td>일반용(갑)저압</td>\n",
       "      <td>5</td>\n",
       "      <td>0.014</td>\n",
       "      <td>0</td>\n",
       "      <td>0</td>\n",
       "    </tr>\n",
       "    <tr>\n",
       "      <th>2</th>\n",
       "      <td>20170901</td>\n",
       "      <td>15</td>\n",
       "      <td>전라남도</td>\n",
       "      <td>나주시</td>\n",
       "      <td>AA10동</td>\n",
       "      <td>AA328호</td>\n",
       "      <td>일반용(갑)저압</td>\n",
       "      <td>5</td>\n",
       "      <td>0.167</td>\n",
       "      <td>0.087</td>\n",
       "      <td>0</td>\n",
       "    </tr>\n",
       "    <tr>\n",
       "      <th>3</th>\n",
       "      <td>20170901</td>\n",
       "      <td>30</td>\n",
       "      <td>전라남도</td>\n",
       "      <td>나주시</td>\n",
       "      <td>AA11동</td>\n",
       "      <td>AA279호</td>\n",
       "      <td>일반용(갑)저압</td>\n",
       "      <td>10</td>\n",
       "      <td>0.370</td>\n",
       "      <td>0.371</td>\n",
       "      <td>0</td>\n",
       "    </tr>\n",
       "    <tr>\n",
       "      <th>4</th>\n",
       "      <td>20170901</td>\n",
       "      <td>30</td>\n",
       "      <td>전라남도</td>\n",
       "      <td>나주시</td>\n",
       "      <td>AA1동</td>\n",
       "      <td>AA278호</td>\n",
       "      <td>일반용(갑)저압</td>\n",
       "      <td>5</td>\n",
       "      <td>0.025</td>\n",
       "      <td>0</td>\n",
       "      <td>0</td>\n",
       "    </tr>\n",
       "  </tbody>\n",
       "</table>\n",
       "</div>"
      ],
      "text/plain": [
       "         날짜  시간   시/도 시/군/구  읍/면/동  고객(가칭)      계약종별  계약전력   유효전력 지상무효전력  \\\n",
       "0  20170901  15  전라남도   나주시  AA11동  AA279호  일반용(갑)저압    10  0.522  0.417   \n",
       "1  20170901  15  전라남도   나주시   AA1동  AA278호  일반용(갑)저압     5  0.014      0   \n",
       "2  20170901  15  전라남도   나주시  AA10동  AA328호  일반용(갑)저압     5  0.167  0.087   \n",
       "3  20170901  30  전라남도   나주시  AA11동  AA279호  일반용(갑)저압    10  0.370  0.371   \n",
       "4  20170901  30  전라남도   나주시   AA1동  AA278호  일반용(갑)저압     5  0.025      0   \n",
       "\n",
       "  진상무효전력  \n",
       "0      0  \n",
       "1      0  \n",
       "2      0  \n",
       "3      0  \n",
       "4      0  "
      ]
     },
     "execution_count": 122,
     "metadata": {},
     "output_type": "execute_result"
    }
   ],
   "source": [
    "frame.head()"
   ]
  },
  {
   "cell_type": "code",
   "execution_count": 123,
   "metadata": {},
   "outputs": [
    {
     "data": {
      "text/html": [
       "<div>\n",
       "<style scoped>\n",
       "    .dataframe tbody tr th:only-of-type {\n",
       "        vertical-align: middle;\n",
       "    }\n",
       "\n",
       "    .dataframe tbody tr th {\n",
       "        vertical-align: top;\n",
       "    }\n",
       "\n",
       "    .dataframe thead th {\n",
       "        text-align: right;\n",
       "    }\n",
       "</style>\n",
       "<table border=\"1\" class=\"dataframe\">\n",
       "  <thead>\n",
       "    <tr style=\"text-align: right;\">\n",
       "      <th></th>\n",
       "      <th>날짜</th>\n",
       "      <th>시간</th>\n",
       "      <th>시/도</th>\n",
       "      <th>시/군/구</th>\n",
       "      <th>읍/면/동</th>\n",
       "      <th>고객(가칭)</th>\n",
       "      <th>계약종별</th>\n",
       "      <th>계약전력</th>\n",
       "      <th>유효전력</th>\n",
       "      <th>지상무효전력</th>\n",
       "      <th>진상무효전력</th>\n",
       "    </tr>\n",
       "  </thead>\n",
       "  <tbody>\n",
       "    <tr>\n",
       "      <th>67769093</th>\n",
       "      <td>20180930</td>\n",
       "      <td>1704</td>\n",
       "      <td>전라남도</td>\n",
       "      <td>나주시</td>\n",
       "      <td>AA48동</td>\n",
       "      <td>AA1370호</td>\n",
       "      <td>산업용(갑)저압</td>\n",
       "      <td>8</td>\n",
       "      <td>NaN</td>\n",
       "      <td>NaN</td>\n",
       "      <td>NaN</td>\n",
       "    </tr>\n",
       "    <tr>\n",
       "      <th>67769094</th>\n",
       "      <td>20180930</td>\n",
       "      <td>1715</td>\n",
       "      <td>전라남도</td>\n",
       "      <td>나주시</td>\n",
       "      <td>AA48동</td>\n",
       "      <td>AA1370호</td>\n",
       "      <td>산업용(갑)저압</td>\n",
       "      <td>8</td>\n",
       "      <td>0.0</td>\n",
       "      <td>0</td>\n",
       "      <td>0</td>\n",
       "    </tr>\n",
       "    <tr>\n",
       "      <th>67769095</th>\n",
       "      <td>20180930</td>\n",
       "      <td>1800</td>\n",
       "      <td>전라남도</td>\n",
       "      <td>나주시</td>\n",
       "      <td>AA48동</td>\n",
       "      <td>AA1370호</td>\n",
       "      <td>산업용(갑)저압</td>\n",
       "      <td>8</td>\n",
       "      <td>0.0</td>\n",
       "      <td>0</td>\n",
       "      <td>0</td>\n",
       "    </tr>\n",
       "    <tr>\n",
       "      <th>67769096</th>\n",
       "      <td>20180930</td>\n",
       "      <td>1808</td>\n",
       "      <td>전라남도</td>\n",
       "      <td>나주시</td>\n",
       "      <td>AA48동</td>\n",
       "      <td>AA1370호</td>\n",
       "      <td>산업용(갑)저압</td>\n",
       "      <td>8</td>\n",
       "      <td>NaN</td>\n",
       "      <td>NaN</td>\n",
       "      <td>NaN</td>\n",
       "    </tr>\n",
       "    <tr>\n",
       "      <th>67769097</th>\n",
       "      <td>20180930</td>\n",
       "      <td>2200</td>\n",
       "      <td>전라남도</td>\n",
       "      <td>나주시</td>\n",
       "      <td>AA48동</td>\n",
       "      <td>AA1370호</td>\n",
       "      <td>산업용(갑)저압</td>\n",
       "      <td>8</td>\n",
       "      <td>0.0</td>\n",
       "      <td>0</td>\n",
       "      <td>0</td>\n",
       "    </tr>\n",
       "  </tbody>\n",
       "</table>\n",
       "</div>"
      ],
      "text/plain": [
       "                날짜    시간   시/도 시/군/구  읍/면/동   고객(가칭)      계약종별  계약전력  유효전력  \\\n",
       "67769093  20180930  1704  전라남도   나주시  AA48동  AA1370호  산업용(갑)저압     8   NaN   \n",
       "67769094  20180930  1715  전라남도   나주시  AA48동  AA1370호  산업용(갑)저압     8   0.0   \n",
       "67769095  20180930  1800  전라남도   나주시  AA48동  AA1370호  산업용(갑)저압     8   0.0   \n",
       "67769096  20180930  1808  전라남도   나주시  AA48동  AA1370호  산업용(갑)저압     8   NaN   \n",
       "67769097  20180930  2200  전라남도   나주시  AA48동  AA1370호  산업용(갑)저압     8   0.0   \n",
       "\n",
       "         지상무효전력 진상무효전력  \n",
       "67769093    NaN    NaN  \n",
       "67769094      0      0  \n",
       "67769095      0      0  \n",
       "67769096    NaN    NaN  \n",
       "67769097      0      0  "
      ]
     },
     "execution_count": 123,
     "metadata": {},
     "output_type": "execute_result"
    }
   ],
   "source": [
    "frame.tail()"
   ]
  },
  {
   "cell_type": "code",
   "execution_count": 124,
   "metadata": {
    "scrolled": true
   },
   "outputs": [
    {
     "name": "stdout",
     "output_type": "stream",
     "text": [
      "<class 'pandas.core.frame.DataFrame'>\n",
      "RangeIndex: 67769098 entries, 0 to 67769097\n",
      "Data columns (total 11 columns):\n",
      "날짜        int64\n",
      "시간        int64\n",
      "시/도       object\n",
      "시/군/구     object\n",
      "읍/면/동     object\n",
      "고객(가칭)    object\n",
      "계약종별      object\n",
      "계약전력      int64\n",
      "유효전력      float64\n",
      "지상무효전력    object\n",
      "진상무효전력    object\n",
      "dtypes: float64(1), int64(3), object(7)\n",
      "memory usage: 5.6+ GB\n"
     ]
    }
   ],
   "source": [
    "frame.info()"
   ]
  },
  {
   "cell_type": "code",
   "execution_count": 125,
   "metadata": {},
   "outputs": [],
   "source": [
    "frame['날짜'] = pd.to_datetime(frame['날짜'], format=\"%Y%m%d\")\n",
    "frame['시간'] = frame['시간'].astype(str)"
   ]
  },
  {
   "cell_type": "code",
   "execution_count": 126,
   "metadata": {},
   "outputs": [
    {
     "name": "stdout",
     "output_type": "stream",
     "text": [
      "<class 'pandas.core.frame.DataFrame'>\n",
      "RangeIndex: 67769098 entries, 0 to 67769097\n",
      "Data columns (total 11 columns):\n",
      "날짜        datetime64[ns]\n",
      "시간        object\n",
      "시/도       object\n",
      "시/군/구     object\n",
      "읍/면/동     object\n",
      "고객(가칭)    object\n",
      "계약종별      object\n",
      "계약전력      int64\n",
      "유효전력      float64\n",
      "지상무효전력    object\n",
      "진상무효전력    object\n",
      "dtypes: datetime64[ns](1), float64(1), int64(1), object(8)\n",
      "memory usage: 5.6+ GB\n"
     ]
    }
   ],
   "source": [
    "frame.info()"
   ]
  },
  {
   "cell_type": "markdown",
   "metadata": {},
   "source": [
    "## 전처리\n",
    "---\n",
    "\n",
    "### 1. datetime으로 변환\n",
    "\n",
    "#### **Issue** \n",
    "\n",
    "- 날짜 : `20170228`\n",
    "- 시간 : `2400`\n",
    "\n",
    "> `20170301`+ `0000` 으로 변경하고 이를 `format = datetime64[ns]`으로 `datetime`이라는 새로운 column 생성 "
   ]
  },
  {
   "cell_type": "code",
   "execution_count": 127,
   "metadata": {},
   "outputs": [],
   "source": [
    "frame.loc[frame['시간'] == '2400', '날짜'] = frame['날짜'] + pd.DateOffset(days=1)\n",
    "frame['시간'] = frame['시간'].apply(lambda x : '0000' if '2400' in str(x) else str(x).zfill(4))\n",
    "frame['datetime'] = pd.to_datetime(frame['날짜'].astype(str) + ' ' + frame['시간'].apply(lambda x: x[0:2]) + ':' + frame['시간'].apply(lambda x: x[2:]))"
   ]
  },
  {
   "cell_type": "code",
   "execution_count": 128,
   "metadata": {},
   "outputs": [
    {
     "data": {
      "text/html": [
       "<div>\n",
       "<style scoped>\n",
       "    .dataframe tbody tr th:only-of-type {\n",
       "        vertical-align: middle;\n",
       "    }\n",
       "\n",
       "    .dataframe tbody tr th {\n",
       "        vertical-align: top;\n",
       "    }\n",
       "\n",
       "    .dataframe thead th {\n",
       "        text-align: right;\n",
       "    }\n",
       "</style>\n",
       "<table border=\"1\" class=\"dataframe\">\n",
       "  <thead>\n",
       "    <tr style=\"text-align: right;\">\n",
       "      <th></th>\n",
       "      <th>날짜</th>\n",
       "      <th>시간</th>\n",
       "      <th>시/도</th>\n",
       "      <th>시/군/구</th>\n",
       "      <th>읍/면/동</th>\n",
       "      <th>고객(가칭)</th>\n",
       "      <th>계약종별</th>\n",
       "      <th>계약전력</th>\n",
       "      <th>유효전력</th>\n",
       "      <th>지상무효전력</th>\n",
       "      <th>진상무효전력</th>\n",
       "      <th>datetime</th>\n",
       "    </tr>\n",
       "  </thead>\n",
       "  <tbody>\n",
       "    <tr>\n",
       "      <th>67769093</th>\n",
       "      <td>2018-09-30</td>\n",
       "      <td>1704</td>\n",
       "      <td>전라남도</td>\n",
       "      <td>나주시</td>\n",
       "      <td>AA48동</td>\n",
       "      <td>AA1370호</td>\n",
       "      <td>산업용(갑)저압</td>\n",
       "      <td>8</td>\n",
       "      <td>NaN</td>\n",
       "      <td>NaN</td>\n",
       "      <td>NaN</td>\n",
       "      <td>2018-09-30 17:04:00</td>\n",
       "    </tr>\n",
       "    <tr>\n",
       "      <th>67769094</th>\n",
       "      <td>2018-09-30</td>\n",
       "      <td>1715</td>\n",
       "      <td>전라남도</td>\n",
       "      <td>나주시</td>\n",
       "      <td>AA48동</td>\n",
       "      <td>AA1370호</td>\n",
       "      <td>산업용(갑)저압</td>\n",
       "      <td>8</td>\n",
       "      <td>0.0</td>\n",
       "      <td>0</td>\n",
       "      <td>0</td>\n",
       "      <td>2018-09-30 17:15:00</td>\n",
       "    </tr>\n",
       "    <tr>\n",
       "      <th>67769095</th>\n",
       "      <td>2018-09-30</td>\n",
       "      <td>1800</td>\n",
       "      <td>전라남도</td>\n",
       "      <td>나주시</td>\n",
       "      <td>AA48동</td>\n",
       "      <td>AA1370호</td>\n",
       "      <td>산업용(갑)저압</td>\n",
       "      <td>8</td>\n",
       "      <td>0.0</td>\n",
       "      <td>0</td>\n",
       "      <td>0</td>\n",
       "      <td>2018-09-30 18:00:00</td>\n",
       "    </tr>\n",
       "    <tr>\n",
       "      <th>67769096</th>\n",
       "      <td>2018-09-30</td>\n",
       "      <td>1808</td>\n",
       "      <td>전라남도</td>\n",
       "      <td>나주시</td>\n",
       "      <td>AA48동</td>\n",
       "      <td>AA1370호</td>\n",
       "      <td>산업용(갑)저압</td>\n",
       "      <td>8</td>\n",
       "      <td>NaN</td>\n",
       "      <td>NaN</td>\n",
       "      <td>NaN</td>\n",
       "      <td>2018-09-30 18:08:00</td>\n",
       "    </tr>\n",
       "    <tr>\n",
       "      <th>67769097</th>\n",
       "      <td>2018-09-30</td>\n",
       "      <td>2200</td>\n",
       "      <td>전라남도</td>\n",
       "      <td>나주시</td>\n",
       "      <td>AA48동</td>\n",
       "      <td>AA1370호</td>\n",
       "      <td>산업용(갑)저압</td>\n",
       "      <td>8</td>\n",
       "      <td>0.0</td>\n",
       "      <td>0</td>\n",
       "      <td>0</td>\n",
       "      <td>2018-09-30 22:00:00</td>\n",
       "    </tr>\n",
       "  </tbody>\n",
       "</table>\n",
       "</div>"
      ],
      "text/plain": [
       "                 날짜    시간   시/도 시/군/구  읍/면/동   고객(가칭)      계약종별  계약전력  유효전력  \\\n",
       "67769093 2018-09-30  1704  전라남도   나주시  AA48동  AA1370호  산업용(갑)저압     8   NaN   \n",
       "67769094 2018-09-30  1715  전라남도   나주시  AA48동  AA1370호  산업용(갑)저압     8   0.0   \n",
       "67769095 2018-09-30  1800  전라남도   나주시  AA48동  AA1370호  산업용(갑)저압     8   0.0   \n",
       "67769096 2018-09-30  1808  전라남도   나주시  AA48동  AA1370호  산업용(갑)저압     8   NaN   \n",
       "67769097 2018-09-30  2200  전라남도   나주시  AA48동  AA1370호  산업용(갑)저압     8   0.0   \n",
       "\n",
       "         지상무효전력 진상무효전력            datetime  \n",
       "67769093    NaN    NaN 2018-09-30 17:04:00  \n",
       "67769094      0      0 2018-09-30 17:15:00  \n",
       "67769095      0      0 2018-09-30 18:00:00  \n",
       "67769096    NaN    NaN 2018-09-30 18:08:00  \n",
       "67769097      0      0 2018-09-30 22:00:00  "
      ]
     },
     "execution_count": 128,
     "metadata": {},
     "output_type": "execute_result"
    }
   ],
   "source": [
    "frame.tail()"
   ]
  },
  {
   "cell_type": "code",
   "execution_count": 135,
   "metadata": {
    "scrolled": true
   },
   "outputs": [],
   "source": [
    "frame = frame.sort_values(by = 'datetime')"
   ]
  },
  {
   "cell_type": "code",
   "execution_count": 149,
   "metadata": {
    "scrolled": true
   },
   "outputs": [
    {
     "data": {
      "text/plain": [
       "AA104동    2947\n",
       "AA102동    2895\n",
       "AA111동    2851\n",
       "AA58동     2768\n",
       "AA120동    2471\n",
       "AA126동    2253\n",
       "AA48동     1805\n",
       "Name: 읍/면/동, dtype: int64"
      ]
     },
     "execution_count": 149,
     "metadata": {},
     "output_type": "execute_result"
    }
   ],
   "source": [
    "frame[frame['고객(가칭)'] == 'AA1370호']['읍/면/동'].value_counts()"
   ]
  },
  {
   "cell_type": "markdown",
   "metadata": {},
   "source": [
    "### 2. 고객 분류\n",
    "\n",
    "#### **Issue** \n",
    "\n",
    "- 읍/면/동 : 비식별화\n",
    "- 고객(가정) :  비식별화\n",
    "\n",
    "> `읍/면/동` + `고객(가정)` 을 **하나의 user**로 봐야하기 때문에, 이를 고려한 새로운 **`user`**라는 새로운 column 생성"
   ]
  },
  {
   "cell_type": "code",
   "execution_count": 130,
   "metadata": {},
   "outputs": [],
   "source": [
    "frame['user'] = frame['읍/면/동'] + ' ' + frame['고객(가칭)']"
   ]
  },
  {
   "cell_type": "code",
   "execution_count": 131,
   "metadata": {},
   "outputs": [
    {
     "data": {
      "text/plain": [
       "19828"
      ]
     },
     "execution_count": 131,
     "metadata": {},
     "output_type": "execute_result"
    }
   ],
   "source": [
    "len(frame['user'].value_counts())"
   ]
  },
  {
   "cell_type": "markdown",
   "metadata": {},
   "source": [
    "- `user` : 총 19828 개의 user로 구분됨"
   ]
  },
  {
   "cell_type": "markdown",
   "metadata": {},
   "source": [
    "이하 `시/군/구`, `읍/면/동` 및 `고객(가칭)`에 대해 범주별로 갯수 확인한 결과\n",
    "\n",
    "- `시/군/구` : 단 1개\n",
    "- `읍/면/동` : 총 13개의 동으로 구분됨, (max = `3893218`, min = `198203`)\n",
    "- `고객(가칭)` :  총 877개의 고객으로 구분됨, (max = `34859`, min = `2025`)"
   ]
  },
  {
   "cell_type": "code",
   "execution_count": 132,
   "metadata": {},
   "outputs": [
    {
     "data": {
      "text/plain": [
       "나주시    67769098\n",
       "Name: 시/군/구, dtype: int64"
      ]
     },
     "execution_count": 132,
     "metadata": {},
     "output_type": "execute_result"
    }
   ],
   "source": [
    "frame['시/군/구'].value_counts()"
   ]
  },
  {
   "cell_type": "code",
   "execution_count": 133,
   "metadata": {
    "scrolled": false
   },
   "outputs": [
    {
     "data": {
      "text/plain": [
       "128"
      ]
     },
     "execution_count": 133,
     "metadata": {},
     "output_type": "execute_result"
    }
   ],
   "source": [
    "len(frame['읍/면/동'].value_counts())"
   ]
  },
  {
   "cell_type": "code",
   "execution_count": 134,
   "metadata": {},
   "outputs": [
    {
     "data": {
      "text/plain": [
       "2263"
      ]
     },
     "execution_count": 134,
     "metadata": {},
     "output_type": "execute_result"
    }
   ],
   "source": [
    "len(frame['고객(가칭)'].value_counts())"
   ]
  },
  {
   "cell_type": "markdown",
   "metadata": {},
   "source": [
    "### 3. 필요한 Column 설정\n",
    "\n",
    "1. 영어로 통일 필요\n",
    "2. 불필요한 컬럼 협의 필요"
   ]
  },
  {
   "cell_type": "code",
   "execution_count": 136,
   "metadata": {},
   "outputs": [],
   "source": [
    "column_list = ['datetime', 'user', '계약종별', '계약전력', '유효전력', '지상무효전력', '진상무효전력']"
   ]
  },
  {
   "cell_type": "code",
   "execution_count": 137,
   "metadata": {},
   "outputs": [],
   "source": [
    "new_frame = frame[column_list]"
   ]
  },
  {
   "cell_type": "code",
   "execution_count": 138,
   "metadata": {},
   "outputs": [
    {
     "data": {
      "text/html": [
       "<div>\n",
       "<style scoped>\n",
       "    .dataframe tbody tr th:only-of-type {\n",
       "        vertical-align: middle;\n",
       "    }\n",
       "\n",
       "    .dataframe tbody tr th {\n",
       "        vertical-align: top;\n",
       "    }\n",
       "\n",
       "    .dataframe thead th {\n",
       "        text-align: right;\n",
       "    }\n",
       "</style>\n",
       "<table border=\"1\" class=\"dataframe\">\n",
       "  <thead>\n",
       "    <tr style=\"text-align: right;\">\n",
       "      <th></th>\n",
       "      <th>datetime</th>\n",
       "      <th>user</th>\n",
       "      <th>계약종별</th>\n",
       "      <th>계약전력</th>\n",
       "      <th>유효전력</th>\n",
       "      <th>지상무효전력</th>\n",
       "      <th>진상무효전력</th>\n",
       "    </tr>\n",
       "  </thead>\n",
       "  <tbody>\n",
       "    <tr>\n",
       "      <th>16436859</th>\n",
       "      <td>2017-01-01 00:15:00</td>\n",
       "      <td>AA4동 AA95호</td>\n",
       "      <td>주택용전력</td>\n",
       "      <td>3</td>\n",
       "      <td>0.005</td>\n",
       "      <td>0</td>\n",
       "      <td>0</td>\n",
       "    </tr>\n",
       "    <tr>\n",
       "      <th>16436642</th>\n",
       "      <td>2017-01-01 00:15:00</td>\n",
       "      <td>AA4동 AA107호</td>\n",
       "      <td>일반용(갑)저압</td>\n",
       "      <td>5</td>\n",
       "      <td>0.124</td>\n",
       "      <td>0.081</td>\n",
       "      <td>0</td>\n",
       "    </tr>\n",
       "    <tr>\n",
       "      <th>16436641</th>\n",
       "      <td>2017-01-01 00:15:00</td>\n",
       "      <td>AA4동 AA106호</td>\n",
       "      <td>주택용전력</td>\n",
       "      <td>3</td>\n",
       "      <td>0.020</td>\n",
       "      <td>0</td>\n",
       "      <td>0</td>\n",
       "    </tr>\n",
       "    <tr>\n",
       "      <th>16436640</th>\n",
       "      <td>2017-01-01 00:15:00</td>\n",
       "      <td>AA3동 AA105호</td>\n",
       "      <td>일반용(갑)저압</td>\n",
       "      <td>5</td>\n",
       "      <td>0.105</td>\n",
       "      <td>0.057</td>\n",
       "      <td>0</td>\n",
       "    </tr>\n",
       "    <tr>\n",
       "      <th>16436639</th>\n",
       "      <td>2017-01-01 00:15:00</td>\n",
       "      <td>AA3동 AA104호</td>\n",
       "      <td>일반용(갑)저압</td>\n",
       "      <td>5</td>\n",
       "      <td>0.210</td>\n",
       "      <td>0.001</td>\n",
       "      <td>0</td>\n",
       "    </tr>\n",
       "  </tbody>\n",
       "</table>\n",
       "</div>"
      ],
      "text/plain": [
       "                    datetime         user      계약종별  계약전력   유효전력 지상무효전력 진상무효전력\n",
       "16436859 2017-01-01 00:15:00   AA4동 AA95호     주택용전력     3  0.005      0      0\n",
       "16436642 2017-01-01 00:15:00  AA4동 AA107호  일반용(갑)저압     5  0.124  0.081      0\n",
       "16436641 2017-01-01 00:15:00  AA4동 AA106호     주택용전력     3  0.020      0      0\n",
       "16436640 2017-01-01 00:15:00  AA3동 AA105호  일반용(갑)저압     5  0.105  0.057      0\n",
       "16436639 2017-01-01 00:15:00  AA3동 AA104호  일반용(갑)저압     5  0.210  0.001      0"
      ]
     },
     "execution_count": 138,
     "metadata": {},
     "output_type": "execute_result"
    }
   ],
   "source": [
    "new_frame.head()"
   ]
  },
  {
   "cell_type": "markdown",
   "metadata": {},
   "source": [
    "## EDA \n",
    "\n",
    "- 결측값 확인\n",
    "- 목표 : target은 12 hour 이후의 예측\n",
    "- LSTM 사용하면 학습에 필요한 sequence 고려해야함 (sequence = ?)"
   ]
  },
  {
   "cell_type": "markdown",
   "metadata": {},
   "source": [
    "user별로 `N/A` 값 분포 확인 필요"
   ]
  },
  {
   "cell_type": "code",
   "execution_count": 139,
   "metadata": {
    "scrolled": false
   },
   "outputs": [
    {
     "data": {
      "text/plain": [
       "AA10동 AA293호      23255\n",
       "AA8동 AA75호        23244\n",
       "AA8동 AA24호        23241\n",
       "AA8동 AA9호         23240\n",
       "AA8동 AA18호        23240\n",
       "AA8동 AA27호        23056\n",
       "AA8동 AA30호        23047\n",
       "AA8동 AA20호        23047\n",
       "AA8동 AA22호        23042\n",
       "AA8동 AA21호        23040\n",
       "AA8동 AA23호        23037\n",
       "AA3동 AA51호        22833\n",
       "AA5동 AA74호        22509\n",
       "AA8동 AA25호        22249\n",
       "AA11동 AA114호      20840\n",
       "AA8동 AA169호       20509\n",
       "AA11동 AA317호      20473\n",
       "AA11동 AA109호      20308\n",
       "AA11동 AA106호      20296\n",
       "AA8동 AA12호        20265\n",
       "AA8동 AA4호         20264\n",
       "AA7동 AA54호        20262\n",
       "AA8동 AA19호        20260\n",
       "AA8동 AA17호        20260\n",
       "AA8동 AA5호         20256\n",
       "AA8동 AA8호         20255\n",
       "AA8동 AA836호       20205\n",
       "AA11동 AA104호      20129\n",
       "AA8동 AA168호       20098\n",
       "AA11동 AA311호      19968\n",
       "                  ...  \n",
       "AA104동 AA789호        14\n",
       "AA98동 AA305호         13\n",
       "AA25동 AA561호         12\n",
       "AA103동 AA1602호        9\n",
       "AA112동 AA1658호        8\n",
       "AA103동 AA1608호        7\n",
       "AA112동 AA1656호        6\n",
       "AA104동 AA1790호        5\n",
       "AA112동 AA1652호        5\n",
       "AA8동 AA247호           5\n",
       "AA112동 AA1629호        4\n",
       "AA49동 AA1731호         4\n",
       "AA90동 AA1930호         4\n",
       "AA49동 AA1336호         3\n",
       "AA112동 AA1655호        2\n",
       "AA12동 AA802호          2\n",
       "AA49동 AA1283호         2\n",
       "AA64동 AA2079호         2\n",
       "AA112동 AA1647호        2\n",
       "AA112동 AA1661호        2\n",
       "AA112동 AA1657호        2\n",
       "AA112동 AA1106호        1\n",
       "AA33동 AA1295호         1\n",
       "AA103동 AA1611호        1\n",
       "AA64동 AA2176호         1\n",
       "AA31동 AA1008호         1\n",
       "AA40동 AA1888호         1\n",
       "AA103동 AA1078호        1\n",
       "AA29동 AA1181호         1\n",
       "AA50동 AA923호          1\n",
       "Name: user, Length: 19828, dtype: int64"
      ]
     },
     "execution_count": 139,
     "metadata": {},
     "output_type": "execute_result"
    }
   ],
   "source": [
    "new_frame['user'].value_counts()"
   ]
  },
  {
   "cell_type": "code",
   "execution_count": 140,
   "metadata": {},
   "outputs": [
    {
     "data": {
      "text/plain": [
       "일반용(갑)저압    32666289\n",
       "주택용전력       17113583\n",
       "심야전력(갑)      7921772\n",
       "농사용(을)저압     6816168\n",
       "산업용(갑)저압     2623816\n",
       "농사용(갑)        531606\n",
       "교육용(갑)저압       54404\n",
       "가로등(을)         41460\n",
       "Name: 계약종별, dtype: int64"
      ]
     },
     "execution_count": 140,
     "metadata": {},
     "output_type": "execute_result"
    }
   ],
   "source": [
    "new_frame['계약종별'].value_counts()"
   ]
  },
  {
   "cell_type": "markdown",
   "metadata": {},
   "source": [
    "#### 결측값이 가장 적은 `상위 10개 user` 시각화"
   ]
  },
  {
   "cell_type": "code",
   "execution_count": 141,
   "metadata": {
    "scrolled": false
   },
   "outputs": [
    {
     "data": {
      "text/plain": [
       "['AA10동 AA293호',\n",
       " 'AA8동 AA75호',\n",
       " 'AA8동 AA24호',\n",
       " 'AA8동 AA9호',\n",
       " 'AA8동 AA18호',\n",
       " 'AA8동 AA27호',\n",
       " 'AA8동 AA30호',\n",
       " 'AA8동 AA20호',\n",
       " 'AA8동 AA22호',\n",
       " 'AA8동 AA21호']"
      ]
     },
     "execution_count": 141,
     "metadata": {},
     "output_type": "execute_result"
    }
   ],
   "source": [
    "list(new_frame['user'].value_counts().index)[:10]"
   ]
  },
  {
   "cell_type": "code",
   "execution_count": 143,
   "metadata": {},
   "outputs": [
    {
     "name": "stderr",
     "output_type": "stream",
     "text": [
      "/usr/anaconda3/lib/python3.7/site-packages/matplotlib/backends/backend_agg.py:211: RuntimeWarning: Glyph 46041 missing from current font.\n",
      "  font.set_text(s, 0.0, flags=flags)\n",
      "/usr/anaconda3/lib/python3.7/site-packages/matplotlib/backends/backend_agg.py:211: RuntimeWarning: Glyph 54840 missing from current font.\n",
      "  font.set_text(s, 0.0, flags=flags)\n",
      "/usr/anaconda3/lib/python3.7/site-packages/matplotlib/backends/backend_agg.py:180: RuntimeWarning: Glyph 46041 missing from current font.\n",
      "  font.set_text(s, 0, flags=flags)\n",
      "/usr/anaconda3/lib/python3.7/site-packages/matplotlib/backends/backend_agg.py:180: RuntimeWarning: Glyph 54840 missing from current font.\n",
      "  font.set_text(s, 0, flags=flags)\n"
     ]
    },
    {
     "data": {
      "text/plain": [
       "<Figure size 1080x720 with 0 Axes>"
      ]
     },
     "metadata": {},
     "output_type": "display_data"
    },
    {
     "data": {
      "image/png": "[encoded data removed]",
      "text/plain": [
       "<Figure size 1080x720 with 10 Axes>"
      ]
     },
     "metadata": {
      "needs_background": "light"
     },
     "output_type": "display_data"
    }
   ],
   "source": [
    "import matplotlib.pylab as plt\n",
    "plt.figure(figsize=(15, 10))\n",
    "\n",
    "fig, axs = plt.subplots(10, figsize=(15,10), constrained_layout=True, sharex=True, sharey=True)\n",
    "fig.suptitle('Top 5 Power')\n",
    "\n",
    "for i, j in enumerate(list(new_frame['user'].value_counts().index)[:10]):\n",
    "    axs[i].plot(new_frame[new_frame['user'] == j]['datetime'], new_frame[new_frame['user'] == j]['유효전력'])\n",
    "    axs[i].set_title(j)\n",
    "\n",
    "# # Hide x labels and tick labels for all but bottom plot.\n",
    "# for ax in axs:\n",
    "#     ax.label_outer()"
   ]
  },
  {
   "cell_type": "code",
   "execution_count": 144,
   "metadata": {
    "scrolled": false
   },
   "outputs": [
    {
     "name": "stderr",
     "output_type": "stream",
     "text": [
      "/usr/anaconda3/lib/python3.7/site-packages/matplotlib/backends/backend_agg.py:211: RuntimeWarning: Glyph 46041 missing from current font.\n",
      "  font.set_text(s, 0.0, flags=flags)\n",
      "/usr/anaconda3/lib/python3.7/site-packages/matplotlib/backends/backend_agg.py:211: RuntimeWarning: Glyph 54840 missing from current font.\n",
      "  font.set_text(s, 0.0, flags=flags)\n",
      "/usr/anaconda3/lib/python3.7/site-packages/matplotlib/backends/backend_agg.py:180: RuntimeWarning: Glyph 46041 missing from current font.\n",
      "  font.set_text(s, 0, flags=flags)\n",
      "/usr/anaconda3/lib/python3.7/site-packages/matplotlib/backends/backend_agg.py:180: RuntimeWarning: Glyph 54840 missing from current font.\n",
      "  font.set_text(s, 0, flags=flags)\n"
     ]
    },
    {
     "data": {
      "image/png": "[encoded data removed]",
      "text/plain": [
       "<Figure size 1080x360 with 1 Axes>"
      ]
     },
     "metadata": {
      "needs_background": "light"
     },
     "output_type": "display_data"
    }
   ],
   "source": [
    "import matplotlib.pylab as plt\n",
    "plt.figure(figsize=(15, 5))\n",
    "plt.plot(new_frame[new_frame['user'] == 'AA10동 AA293호']['datetime'], new_frame[new_frame['user'] == 'AA10동 AA293호']['유효전력'])\n",
    "plt.title('AA10동 AA293호')\n",
    "plt.show()"
   ]
  }
 ],
 "metadata": {
  "kernelspec": {
   "display_name": "Python 3",
   "language": "python",
   "name": "python3"
  },
  "language_info": {
   "codemirror_mode": {
    "name": "ipython",
    "version": 3
   },
   "file_extension": ".py",
   "mimetype": "text/x-python",
   "name": "python",
   "nbconvert_exporter": "python",
   "pygments_lexer": "ipython3",
   "version": "3.7.3"
  }
 },
 "nbformat": 4,
 "nbformat_minor": 2
}
