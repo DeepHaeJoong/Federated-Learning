{
 "cells": [
  {
   "cell_type": "markdown",
   "metadata": {},
   "source": [
    "### 인천 데이터"
   ]
  },
  {
   "cell_type": "code",
   "execution_count": 4,
   "metadata": {},
   "outputs": [],
   "source": [
    "import pandas as pd\n",
    "import glob\n",
    "from datetime import datetime\n",
    "import numpy as np\n",
    "\n",
    "# 한국의 공휴일, version : 1.1.1\n",
    "from workalendar.asia import SouthKorea \n",
    "\n",
    "holidays = pd.concat([pd.Series(np.array(SouthKorea().holidays(2018))[:, 0]), pd.Series(np.array(SouthKorea().holidays(2017))[:, 0])]).reset_index(drop=True)"
   ]
  },
  {
   "cell_type": "code",
   "execution_count": 103,
   "metadata": {},
   "outputs": [],
   "source": [
    "# 2017년 ~ 2018년 data 취합\n",
    "\n",
    "# path_list = [r'data/경진대회_나주시_전력사용량 DATA1', r'data/경진대회_나주시_전력사용량 DATA2', r'data/경진대회_나주시_전력사용량 DATA3']\n",
    "path_list = [r'data/경진대회_인천시_전력사용량 DATA']\n",
    "li = []\n",
    "for path in path_list:\n",
    "    all_files = glob.glob(path + \"/*.csv\")\n",
    "    for filename in all_files:\n",
    "        df = pd.read_csv(filename, index_col=None, header=0, encoding='euc-kr')\n",
    "        li.append(df)\n",
    "\n",
    "frame = pd.concat(li, axis=0, ignore_index=True)"
   ]
  },
  {
   "cell_type": "code",
   "execution_count": 104,
   "metadata": {},
   "outputs": [
    {
     "data": {
      "text/html": [
       "<div>\n",
       "<style scoped>\n",
       "    .dataframe tbody tr th:only-of-type {\n",
       "        vertical-align: middle;\n",
       "    }\n",
       "\n",
       "    .dataframe tbody tr th {\n",
       "        vertical-align: top;\n",
       "    }\n",
       "\n",
       "    .dataframe thead th {\n",
       "        text-align: right;\n",
       "    }\n",
       "</style>\n",
       "<table border=\"1\" class=\"dataframe\">\n",
       "  <thead>\n",
       "    <tr style=\"text-align: right;\">\n",
       "      <th></th>\n",
       "      <th>시/도</th>\n",
       "      <th>시/군/구</th>\n",
       "      <th>읍/면/동</th>\n",
       "      <th>계약종별</th>\n",
       "      <th>날짜</th>\n",
       "      <th>시간</th>\n",
       "      <th>호수</th>\n",
       "      <th>전력사용</th>\n",
       "    </tr>\n",
       "  </thead>\n",
       "  <tbody>\n",
       "    <tr>\n",
       "      <th>4834156</th>\n",
       "      <td>인천광역시</td>\n",
       "      <td>중구</td>\n",
       "      <td>AA78동</td>\n",
       "      <td>211 일반용(갑)저압</td>\n",
       "      <td>20171031</td>\n",
       "      <td>19</td>\n",
       "      <td>11</td>\n",
       "      <td>42.227</td>\n",
       "    </tr>\n",
       "    <tr>\n",
       "      <th>4834157</th>\n",
       "      <td>인천광역시</td>\n",
       "      <td>중구</td>\n",
       "      <td>AA78동</td>\n",
       "      <td>211 일반용(갑)저압</td>\n",
       "      <td>20171031</td>\n",
       "      <td>20</td>\n",
       "      <td>11</td>\n",
       "      <td>43.458</td>\n",
       "    </tr>\n",
       "    <tr>\n",
       "      <th>4834158</th>\n",
       "      <td>인천광역시</td>\n",
       "      <td>중구</td>\n",
       "      <td>AA78동</td>\n",
       "      <td>211 일반용(갑)저압</td>\n",
       "      <td>20171031</td>\n",
       "      <td>21</td>\n",
       "      <td>11</td>\n",
       "      <td>31.574</td>\n",
       "    </tr>\n",
       "    <tr>\n",
       "      <th>4834159</th>\n",
       "      <td>인천광역시</td>\n",
       "      <td>중구</td>\n",
       "      <td>AA78동</td>\n",
       "      <td>211 일반용(갑)저압</td>\n",
       "      <td>20171031</td>\n",
       "      <td>22</td>\n",
       "      <td>11</td>\n",
       "      <td>42.109</td>\n",
       "    </tr>\n",
       "    <tr>\n",
       "      <th>4834160</th>\n",
       "      <td>인천광역시</td>\n",
       "      <td>중구</td>\n",
       "      <td>AA78동</td>\n",
       "      <td>211 일반용(갑)저압</td>\n",
       "      <td>20171031</td>\n",
       "      <td>23</td>\n",
       "      <td>11</td>\n",
       "      <td>44.247</td>\n",
       "    </tr>\n",
       "  </tbody>\n",
       "</table>\n",
       "</div>"
      ],
      "text/plain": [
       "           시/도 시/군/구  읍/면/동          계약종별        날짜  시간  호수    전력사용\n",
       "4834156  인천광역시    중구  AA78동  211 일반용(갑)저압  20171031  19  11  42.227\n",
       "4834157  인천광역시    중구  AA78동  211 일반용(갑)저압  20171031  20  11  43.458\n",
       "4834158  인천광역시    중구  AA78동  211 일반용(갑)저압  20171031  21  11  31.574\n",
       "4834159  인천광역시    중구  AA78동  211 일반용(갑)저압  20171031  22  11  42.109\n",
       "4834160  인천광역시    중구  AA78동  211 일반용(갑)저압  20171031  23  11  44.247"
      ]
     },
     "execution_count": 104,
     "metadata": {},
     "output_type": "execute_result"
    }
   ],
   "source": [
    "frame.tail()"
   ]
  },
  {
   "cell_type": "code",
   "execution_count": 105,
   "metadata": {},
   "outputs": [
    {
     "name": "stdout",
     "output_type": "stream",
     "text": [
      "<class 'pandas.core.frame.DataFrame'>\n",
      "RangeIndex: 4834161 entries, 0 to 4834160\n",
      "Data columns (total 8 columns):\n",
      "시/도      object\n",
      "시/군/구    object\n",
      "읍/면/동    object\n",
      "계약종별     object\n",
      "날짜       int64\n",
      "시간       int64\n",
      "호수       int64\n",
      "전력사용     float64\n",
      "dtypes: float64(1), int64(3), object(4)\n",
      "memory usage: 295.1+ MB\n"
     ]
    }
   ],
   "source": [
    "frame.info()"
   ]
  },
  {
   "cell_type": "code",
   "execution_count": 106,
   "metadata": {},
   "outputs": [],
   "source": [
    "frame['날짜'] = pd.to_datetime(frame['날짜'], format=\"%Y%m%d\")\n",
    "frame['시간'] = frame['시간'].astype(str)"
   ]
  },
  {
   "cell_type": "code",
   "execution_count": 107,
   "metadata": {},
   "outputs": [
    {
     "name": "stdout",
     "output_type": "stream",
     "text": [
      "<class 'pandas.core.frame.DataFrame'>\n",
      "RangeIndex: 4834161 entries, 0 to 4834160\n",
      "Data columns (total 8 columns):\n",
      "시/도      object\n",
      "시/군/구    object\n",
      "읍/면/동    object\n",
      "계약종별     object\n",
      "날짜       datetime64[ns]\n",
      "시간       object\n",
      "호수       int64\n",
      "전력사용     float64\n",
      "dtypes: datetime64[ns](1), float64(1), int64(1), object(5)\n",
      "memory usage: 295.1+ MB\n"
     ]
    }
   ],
   "source": [
    "frame.info()"
   ]
  },
  {
   "cell_type": "markdown",
   "metadata": {},
   "source": [
    "## 전처리\n",
    "---\n",
    "\n",
    "### 1. datetime으로 변환\n",
    "\n",
    "#### **Issue** \n",
    "\n",
    "- 날짜 : `20170228`\n",
    "- 시간 : `23`\n",
    "\n",
    "> `20170301`+ `2300` 으로 변경하고 이를 `format = datetime64[ns]`으로 `datetime`이라는 새로운 column 생성 "
   ]
  },
  {
   "cell_type": "code",
   "execution_count": 108,
   "metadata": {},
   "outputs": [],
   "source": [
    "# frame.loc[frame['시간'] == '2400', '날짜'] = frame['날짜'] + pd.DateOffset(days=1)\n",
    "# frame['시간'] = frame['시간'].apply(lambda x : '0000' if '2400' in str(x) else str(x).zfill(4))\n",
    "frame['datetime'] = pd.to_datetime(frame['날짜'].astype(str) + ' ' + frame['시간'].apply(lambda x: x[0:2]) + ':00')"
   ]
  },
  {
   "cell_type": "code",
   "execution_count": 109,
   "metadata": {},
   "outputs": [
    {
     "data": {
      "text/html": [
       "<div>\n",
       "<style scoped>\n",
       "    .dataframe tbody tr th:only-of-type {\n",
       "        vertical-align: middle;\n",
       "    }\n",
       "\n",
       "    .dataframe tbody tr th {\n",
       "        vertical-align: top;\n",
       "    }\n",
       "\n",
       "    .dataframe thead th {\n",
       "        text-align: right;\n",
       "    }\n",
       "</style>\n",
       "<table border=\"1\" class=\"dataframe\">\n",
       "  <thead>\n",
       "    <tr style=\"text-align: right;\">\n",
       "      <th></th>\n",
       "      <th>시/도</th>\n",
       "      <th>시/군/구</th>\n",
       "      <th>읍/면/동</th>\n",
       "      <th>계약종별</th>\n",
       "      <th>날짜</th>\n",
       "      <th>시간</th>\n",
       "      <th>호수</th>\n",
       "      <th>전력사용</th>\n",
       "      <th>datetime</th>\n",
       "    </tr>\n",
       "  </thead>\n",
       "  <tbody>\n",
       "    <tr>\n",
       "      <th>4834156</th>\n",
       "      <td>인천광역시</td>\n",
       "      <td>중구</td>\n",
       "      <td>AA78동</td>\n",
       "      <td>211 일반용(갑)저압</td>\n",
       "      <td>2017-10-31</td>\n",
       "      <td>19</td>\n",
       "      <td>11</td>\n",
       "      <td>42.227</td>\n",
       "      <td>2017-10-31 19:00:00</td>\n",
       "    </tr>\n",
       "    <tr>\n",
       "      <th>4834157</th>\n",
       "      <td>인천광역시</td>\n",
       "      <td>중구</td>\n",
       "      <td>AA78동</td>\n",
       "      <td>211 일반용(갑)저압</td>\n",
       "      <td>2017-10-31</td>\n",
       "      <td>20</td>\n",
       "      <td>11</td>\n",
       "      <td>43.458</td>\n",
       "      <td>2017-10-31 20:00:00</td>\n",
       "    </tr>\n",
       "    <tr>\n",
       "      <th>4834158</th>\n",
       "      <td>인천광역시</td>\n",
       "      <td>중구</td>\n",
       "      <td>AA78동</td>\n",
       "      <td>211 일반용(갑)저압</td>\n",
       "      <td>2017-10-31</td>\n",
       "      <td>21</td>\n",
       "      <td>11</td>\n",
       "      <td>31.574</td>\n",
       "      <td>2017-10-31 21:00:00</td>\n",
       "    </tr>\n",
       "    <tr>\n",
       "      <th>4834159</th>\n",
       "      <td>인천광역시</td>\n",
       "      <td>중구</td>\n",
       "      <td>AA78동</td>\n",
       "      <td>211 일반용(갑)저압</td>\n",
       "      <td>2017-10-31</td>\n",
       "      <td>22</td>\n",
       "      <td>11</td>\n",
       "      <td>42.109</td>\n",
       "      <td>2017-10-31 22:00:00</td>\n",
       "    </tr>\n",
       "    <tr>\n",
       "      <th>4834160</th>\n",
       "      <td>인천광역시</td>\n",
       "      <td>중구</td>\n",
       "      <td>AA78동</td>\n",
       "      <td>211 일반용(갑)저압</td>\n",
       "      <td>2017-10-31</td>\n",
       "      <td>23</td>\n",
       "      <td>11</td>\n",
       "      <td>44.247</td>\n",
       "      <td>2017-10-31 23:00:00</td>\n",
       "    </tr>\n",
       "  </tbody>\n",
       "</table>\n",
       "</div>"
      ],
      "text/plain": [
       "           시/도 시/군/구  읍/면/동          계약종별         날짜  시간  호수    전력사용  \\\n",
       "4834156  인천광역시    중구  AA78동  211 일반용(갑)저압 2017-10-31  19  11  42.227   \n",
       "4834157  인천광역시    중구  AA78동  211 일반용(갑)저압 2017-10-31  20  11  43.458   \n",
       "4834158  인천광역시    중구  AA78동  211 일반용(갑)저압 2017-10-31  21  11  31.574   \n",
       "4834159  인천광역시    중구  AA78동  211 일반용(갑)저압 2017-10-31  22  11  42.109   \n",
       "4834160  인천광역시    중구  AA78동  211 일반용(갑)저압 2017-10-31  23  11  44.247   \n",
       "\n",
       "                   datetime  \n",
       "4834156 2017-10-31 19:00:00  \n",
       "4834157 2017-10-31 20:00:00  \n",
       "4834158 2017-10-31 21:00:00  \n",
       "4834159 2017-10-31 22:00:00  \n",
       "4834160 2017-10-31 23:00:00  "
      ]
     },
     "execution_count": 109,
     "metadata": {},
     "output_type": "execute_result"
    }
   ],
   "source": [
    "frame.tail()"
   ]
  },
  {
   "cell_type": "code",
   "execution_count": 63,
   "metadata": {},
   "outputs": [],
   "source": [
    "frame = frame.sort_values(by = 'datetime')"
   ]
  },
  {
   "cell_type": "markdown",
   "metadata": {},
   "source": [
    "### 2. 고객 분류 I\n"
   ]
  },
  {
   "cell_type": "code",
   "execution_count": 110,
   "metadata": {},
   "outputs": [
    {
     "name": "stdout",
     "output_type": "stream",
     "text": [
      "--------시/도 구분---------------\n",
      "['인천광역시']\n",
      "--------시/군/구 구분------------\n",
      "['강화군' '계양구' '남동구' '동구' '미추홀구' '부평구' '서구' '연수구' '옹진군' '중구']\n",
      "--------읍/면/동 구분------------\n",
      "['AA9동' 'AA50동' 'AA51동' 'AA53동' 'AA12동' 'AA20동' 'AA30동' 'AA41동' 'AA42동'\n",
      " 'AA43동' 'AA52동' 'AA54동' 'AA78동' 'AA88동' 'AA89동' 'AA90동' 'AA101동' 'AA3동'\n",
      " 'AA4동' 'AA5동' 'AA6동' 'AA7동' 'AA13동' 'AA15동' 'AA16동' 'AA17동' 'AA18동'\n",
      " 'AA19동' 'AA23동' 'AA25동' 'AA27동' 'AA32동' 'AA33동' 'AA34동' 'AA35동' 'AA36동'\n",
      " 'AA37동' 'AA38동' 'AA55동' 'AA66동' 'AA91동' 'AA21동' 'AA31동' 'AA59동' 'AA65동'\n",
      " 'AA95동' 'AA99동' 'AA100동' 'AA14동' 'AA29동' 'AA40동' 'AA67동' 'AA79동' 'AA93동'\n",
      " 'AA98동' 'AA8동' 'AA44동' 'AA45동' 'AA48동' 'AA49동' 'AA74동' 'AA87동' 'AA96동'\n",
      " 'AA1동' 'AA2동' 'AA10동' 'AA56동' 'AA69동' 'AA73동' 'AA57동' 'AA75동' 'AA77동'\n",
      " 'AA97동' 'AA76동' 'AA11동' 'AA22동' 'AA24동' 'AA26동' 'AA28동' 'AA39동' 'AA46동'\n",
      " 'AA47동' 'AA58동' 'AA60동' 'AA61동' 'AA62동' 'AA63동' 'AA64동' 'AA68동' 'AA70동'\n",
      " 'AA71동' 'AA72동' 'AA80동' 'AA81동' 'AA82동' 'AA83동' 'AA84동' 'AA85동' 'AA86동'\n",
      " 'AA92동' 'AA94동' 'AA105동' 'AA103동' 'AA104동' 'AA102동']\n",
      "--------호수 구분------------\n",
      "[    6     5    10 ... 10306 10319 10349]\n",
      "--------계약종별 구분------------\n",
      "['100 주택용전력' '211 일반용(갑)저압' '430 농사용(을)저압' '905 심야전력(갑)' '311 산업용(갑)저압'\n",
      " '410 농사용(갑)' '610 가로등(을)' '213 교육용(갑)저압']\n"
     ]
    }
   ],
   "source": [
    "print('--------시/도 구분---------------')\n",
    "print(frame['시/도'].unique())\n",
    "print('--------시/군/구 구분------------')\n",
    "print(frame['시/군/구'].unique())\n",
    "print('--------읍/면/동 구분------------')\n",
    "print(frame['읍/면/동'].unique())\n",
    "print('--------호수 구분------------')\n",
    "print(frame['호수'].unique())\n",
    "print('--------계약종별 구분------------')\n",
    "print(frame['계약종별'].unique())"
   ]
  },
  {
   "cell_type": "markdown",
   "metadata": {},
   "source": [
    "고유한 user를 찾기전에 `계약종별 구분`에서 숫자 **제거**하자."
   ]
  },
  {
   "cell_type": "code",
   "execution_count": 111,
   "metadata": {},
   "outputs": [],
   "source": [
    "def char_replace(x):\n",
    "    char = x.split(' ')[1]\n",
    "    return char"
   ]
  },
  {
   "cell_type": "code",
   "execution_count": 112,
   "metadata": {},
   "outputs": [
    {
     "data": {
      "text/html": [
       "<div>\n",
       "<style scoped>\n",
       "    .dataframe tbody tr th:only-of-type {\n",
       "        vertical-align: middle;\n",
       "    }\n",
       "\n",
       "    .dataframe tbody tr th {\n",
       "        vertical-align: top;\n",
       "    }\n",
       "\n",
       "    .dataframe thead th {\n",
       "        text-align: right;\n",
       "    }\n",
       "</style>\n",
       "<table border=\"1\" class=\"dataframe\">\n",
       "  <thead>\n",
       "    <tr style=\"text-align: right;\">\n",
       "      <th></th>\n",
       "      <th>시/도</th>\n",
       "      <th>시/군/구</th>\n",
       "      <th>읍/면/동</th>\n",
       "      <th>계약종별</th>\n",
       "      <th>날짜</th>\n",
       "      <th>시간</th>\n",
       "      <th>호수</th>\n",
       "      <th>전력사용</th>\n",
       "      <th>datetime</th>\n",
       "    </tr>\n",
       "  </thead>\n",
       "  <tbody>\n",
       "    <tr>\n",
       "      <th>0</th>\n",
       "      <td>인천광역시</td>\n",
       "      <td>강화군</td>\n",
       "      <td>AA9동</td>\n",
       "      <td>주택용전력</td>\n",
       "      <td>2018-10-01</td>\n",
       "      <td>0</td>\n",
       "      <td>6</td>\n",
       "      <td>1.692</td>\n",
       "      <td>2018-10-01 00:00:00</td>\n",
       "    </tr>\n",
       "    <tr>\n",
       "      <th>1</th>\n",
       "      <td>인천광역시</td>\n",
       "      <td>강화군</td>\n",
       "      <td>AA9동</td>\n",
       "      <td>주택용전력</td>\n",
       "      <td>2018-10-01</td>\n",
       "      <td>1</td>\n",
       "      <td>6</td>\n",
       "      <td>1.539</td>\n",
       "      <td>2018-10-01 01:00:00</td>\n",
       "    </tr>\n",
       "    <tr>\n",
       "      <th>2</th>\n",
       "      <td>인천광역시</td>\n",
       "      <td>강화군</td>\n",
       "      <td>AA9동</td>\n",
       "      <td>주택용전력</td>\n",
       "      <td>2018-10-01</td>\n",
       "      <td>2</td>\n",
       "      <td>6</td>\n",
       "      <td>1.464</td>\n",
       "      <td>2018-10-01 02:00:00</td>\n",
       "    </tr>\n",
       "    <tr>\n",
       "      <th>3</th>\n",
       "      <td>인천광역시</td>\n",
       "      <td>강화군</td>\n",
       "      <td>AA9동</td>\n",
       "      <td>주택용전력</td>\n",
       "      <td>2018-10-01</td>\n",
       "      <td>3</td>\n",
       "      <td>6</td>\n",
       "      <td>1.455</td>\n",
       "      <td>2018-10-01 03:00:00</td>\n",
       "    </tr>\n",
       "    <tr>\n",
       "      <th>4</th>\n",
       "      <td>인천광역시</td>\n",
       "      <td>강화군</td>\n",
       "      <td>AA9동</td>\n",
       "      <td>주택용전력</td>\n",
       "      <td>2018-10-01</td>\n",
       "      <td>4</td>\n",
       "      <td>6</td>\n",
       "      <td>1.542</td>\n",
       "      <td>2018-10-01 04:00:00</td>\n",
       "    </tr>\n",
       "  </tbody>\n",
       "</table>\n",
       "</div>"
      ],
      "text/plain": [
       "     시/도 시/군/구 읍/면/동   계약종별         날짜 시간  호수   전력사용            datetime\n",
       "0  인천광역시   강화군  AA9동  주택용전력 2018-10-01  0   6  1.692 2018-10-01 00:00:00\n",
       "1  인천광역시   강화군  AA9동  주택용전력 2018-10-01  1   6  1.539 2018-10-01 01:00:00\n",
       "2  인천광역시   강화군  AA9동  주택용전력 2018-10-01  2   6  1.464 2018-10-01 02:00:00\n",
       "3  인천광역시   강화군  AA9동  주택용전력 2018-10-01  3   6  1.455 2018-10-01 03:00:00\n",
       "4  인천광역시   강화군  AA9동  주택용전력 2018-10-01  4   6  1.542 2018-10-01 04:00:00"
      ]
     },
     "execution_count": 112,
     "metadata": {},
     "output_type": "execute_result"
    }
   ],
   "source": [
    "frame['계약종별'] = frame['계약종별'].apply(lambda x : char_replace(x))\n",
    "frame.head()"
   ]
  },
  {
   "cell_type": "code",
   "execution_count": 113,
   "metadata": {},
   "outputs": [
    {
     "data": {
      "text/html": [
       "<div>\n",
       "<style scoped>\n",
       "    .dataframe tbody tr th:only-of-type {\n",
       "        vertical-align: middle;\n",
       "    }\n",
       "\n",
       "    .dataframe tbody tr th {\n",
       "        vertical-align: top;\n",
       "    }\n",
       "\n",
       "    .dataframe thead th {\n",
       "        text-align: right;\n",
       "    }\n",
       "</style>\n",
       "<table border=\"1\" class=\"dataframe\">\n",
       "  <thead>\n",
       "    <tr style=\"text-align: right;\">\n",
       "      <th></th>\n",
       "      <th></th>\n",
       "      <th></th>\n",
       "      <th></th>\n",
       "      <th>시/도</th>\n",
       "      <th>날짜</th>\n",
       "      <th>시간</th>\n",
       "      <th>전력사용</th>\n",
       "      <th>datetime</th>\n",
       "    </tr>\n",
       "    <tr>\n",
       "      <th>시/군/구</th>\n",
       "      <th>읍/면/동</th>\n",
       "      <th>호수</th>\n",
       "      <th>계약종별</th>\n",
       "      <th></th>\n",
       "      <th></th>\n",
       "      <th></th>\n",
       "      <th></th>\n",
       "      <th></th>\n",
       "    </tr>\n",
       "  </thead>\n",
       "  <tbody>\n",
       "    <tr>\n",
       "      <th rowspan=\"10\" valign=\"top\">강화군</th>\n",
       "      <th rowspan=\"10\" valign=\"top\">AA40동</th>\n",
       "      <th rowspan=\"3\" valign=\"top\">5</th>\n",
       "      <th>농사용(을)저압</th>\n",
       "      <td>1</td>\n",
       "      <td>1</td>\n",
       "      <td>1</td>\n",
       "      <td>1</td>\n",
       "      <td>1</td>\n",
       "    </tr>\n",
       "    <tr>\n",
       "      <th>심야전력(갑)</th>\n",
       "      <td>4</td>\n",
       "      <td>4</td>\n",
       "      <td>4</td>\n",
       "      <td>4</td>\n",
       "      <td>4</td>\n",
       "    </tr>\n",
       "    <tr>\n",
       "      <th>일반용(갑)저압</th>\n",
       "      <td>367</td>\n",
       "      <td>367</td>\n",
       "      <td>367</td>\n",
       "      <td>367</td>\n",
       "      <td>367</td>\n",
       "    </tr>\n",
       "    <tr>\n",
       "      <th rowspan=\"2\" valign=\"top\">6</th>\n",
       "      <th>농사용(을)저압</th>\n",
       "      <td>23</td>\n",
       "      <td>23</td>\n",
       "      <td>23</td>\n",
       "      <td>23</td>\n",
       "      <td>23</td>\n",
       "    </tr>\n",
       "    <tr>\n",
       "      <th>심야전력(갑)</th>\n",
       "      <td>4</td>\n",
       "      <td>4</td>\n",
       "      <td>4</td>\n",
       "      <td>4</td>\n",
       "      <td>4</td>\n",
       "    </tr>\n",
       "    <tr>\n",
       "      <th rowspan=\"2\" valign=\"top\">7</th>\n",
       "      <th>농사용(을)저압</th>\n",
       "      <td>3533</td>\n",
       "      <td>3533</td>\n",
       "      <td>3533</td>\n",
       "      <td>3533</td>\n",
       "      <td>3533</td>\n",
       "    </tr>\n",
       "    <tr>\n",
       "      <th>심야전력(갑)</th>\n",
       "      <td>9</td>\n",
       "      <td>9</td>\n",
       "      <td>9</td>\n",
       "      <td>9</td>\n",
       "      <td>9</td>\n",
       "    </tr>\n",
       "    <tr>\n",
       "      <th rowspan=\"2\" valign=\"top\">8</th>\n",
       "      <th>심야전력(갑)</th>\n",
       "      <td>28</td>\n",
       "      <td>28</td>\n",
       "      <td>28</td>\n",
       "      <td>28</td>\n",
       "      <td>28</td>\n",
       "    </tr>\n",
       "    <tr>\n",
       "      <th>주택용전력</th>\n",
       "      <td>3</td>\n",
       "      <td>3</td>\n",
       "      <td>3</td>\n",
       "      <td>3</td>\n",
       "      <td>3</td>\n",
       "    </tr>\n",
       "    <tr>\n",
       "      <th>9</th>\n",
       "      <th>심야전력(갑)</th>\n",
       "      <td>3511</td>\n",
       "      <td>3511</td>\n",
       "      <td>3511</td>\n",
       "      <td>3511</td>\n",
       "      <td>3511</td>\n",
       "    </tr>\n",
       "  </tbody>\n",
       "</table>\n",
       "</div>"
      ],
      "text/plain": [
       "                          시/도    날짜    시간  전력사용  datetime\n",
       "시/군/구 읍/면/동 호수 계약종별                                      \n",
       "강화군   AA40동 5  농사용(을)저압     1     1     1     1         1\n",
       "               심야전력(갑)      4     4     4     4         4\n",
       "               일반용(갑)저압   367   367   367   367       367\n",
       "            6  농사용(을)저압    23    23    23    23        23\n",
       "               심야전력(갑)      4     4     4     4         4\n",
       "            7  농사용(을)저압  3533  3533  3533  3533      3533\n",
       "               심야전력(갑)      9     9     9     9         9\n",
       "            8  심야전력(갑)     28    28    28    28        28\n",
       "               주택용전력        3     3     3     3         3\n",
       "            9  심야전력(갑)   3511  3511  3511  3511      3511"
      ]
     },
     "execution_count": 113,
     "metadata": {},
     "output_type": "execute_result"
    }
   ],
   "source": [
    "frame.groupby(['시/군/구','읍/면/동', '호수', '계약종별']).count().head(10)"
   ]
  },
  {
   "cell_type": "code",
   "execution_count": 114,
   "metadata": {},
   "outputs": [
    {
     "data": {
      "text/plain": [
       "FrozenList([['인천광역시'], ['강화군', '계양구', '남동구', '동구', '미추홀구', '부평구', '서구', '연수구', '옹진군', '중구'], ['AA100동', 'AA101동', 'AA102동', 'AA103동', 'AA104동', 'AA105동', 'AA10동', 'AA11동', 'AA12동', 'AA13동', 'AA14동', 'AA15동', 'AA16동', 'AA17동', 'AA18동', 'AA19동', 'AA1동', 'AA20동', 'AA21동', 'AA22동', 'AA23동', 'AA24동', 'AA25동', 'AA26동', 'AA27동', 'AA28동', 'AA29동', 'AA2동', 'AA30동', 'AA31동', 'AA32동', 'AA33동', 'AA34동', 'AA35동', 'AA36동', 'AA37동', 'AA38동', 'AA39동', 'AA3동', 'AA40동', 'AA41동', 'AA42동', 'AA43동', 'AA44동', 'AA45동', 'AA46동', 'AA47동', 'AA48동', 'AA49동', 'AA4동', 'AA50동', 'AA51동', 'AA52동', 'AA53동', 'AA54동', 'AA55동', 'AA56동', 'AA57동', 'AA58동', 'AA59동', 'AA5동', 'AA60동', 'AA61동', 'AA62동', 'AA63동', 'AA64동', 'AA65동', 'AA66동', 'AA67동', 'AA68동', 'AA69동', 'AA6동', 'AA70동', 'AA71동', 'AA72동', 'AA73동', 'AA74동', 'AA75동', 'AA76동', 'AA77동', 'AA78동', 'AA79동', 'AA7동', 'AA80동', 'AA81동', 'AA82동', 'AA83동', 'AA84동', 'AA85동', 'AA86동', 'AA87동', 'AA88동', 'AA89동', 'AA8동', 'AA90동', 'AA91동', 'AA92동', 'AA93동', 'AA94동', 'AA95동', ...], [5, 6, 7, 8, 9, 10, 11, 12, 13, 14, 15, 16, 17, 18, 19, 20, 21, 22, 23, 24, 25, 26, 27, 28, 29, 30, 31, 32, 33, 34, 35, 36, 37, 38, 39, 40, 41, 42, 43, 44, 45, 46, 47, 48, 49, 50, 51, 52, 53, 54, 55, 56, 57, 58, 59, 60, 61, 62, 63, 64, 65, 66, 67, 68, 69, 70, 71, 72, 73, 74, 75, 76, 77, 78, 79, 80, 81, 82, 83, 84, 85, 86, 87, 88, 89, 90, 91, 92, 93, 94, 95, 96, 97, 98, 99, 100, 101, 102, 103, 104, ...], ['가로등(을)', '교육용(갑)저압', '농사용(갑)', '농사용(을)저압', '산업용(갑)저압', '심야전력(갑)', '일반용(갑)저압', '주택용전력']])"
      ]
     },
     "execution_count": 114,
     "metadata": {},
     "output_type": "execute_result"
    }
   ],
   "source": [
    "frame.groupby(['시/도','시/군/구','읍/면/동', '호수', '계약종별']).count().index.levels"
   ]
  },
  {
   "cell_type": "markdown",
   "metadata": {},
   "source": [
    "### **Issue** \n",
    "\n",
    "- 시/군/구 : 식별\n",
    "- 읍/면/동 : 비식별화\n",
    "- 호수 :  비식별화\n",
    "- 계약종별 : 구분 필요\n",
    "\n",
    "> `시/군/구` + `읍/면/동` + `호수` + `계약종별` 을 **하나의 user**로 봐야하기 때문에, 이를 고려한 새로운 **`user`**라는 새로운 column 생성- "
   ]
  },
  {
   "cell_type": "code",
   "execution_count": 115,
   "metadata": {},
   "outputs": [],
   "source": [
    "frame.loc[frame['계약종별'] == '주택용전력', 'contract_type'] = 0\n",
    "frame.loc[frame['계약종별'] == '일반용(갑)저압', 'contract_type'] = 1\n",
    "frame.loc[frame['계약종별'] == '산업용(갑)저압', 'contract_type'] = 2\n",
    "frame.loc[frame['계약종별'] == '심야전력(갑)', 'contract_type'] = 3\n",
    "frame.loc[frame['계약종별'] == '농사용(을)저압', 'contract_type'] = 4\n",
    "frame.loc[frame['계약종별'] == '농사용(갑)', 'contract_type'] = 5\n",
    "frame.loc[frame['계약종별'] == '교육용(갑)저압', 'contract_type'] = 6\n",
    "frame.loc[frame['계약종별'] == '가로등(을)', 'contract_type'] = 7"
   ]
  },
  {
   "cell_type": "code",
   "execution_count": 116,
   "metadata": {},
   "outputs": [],
   "source": [
    "frame['contract_type'] =  frame['contract_type'].astype(int)"
   ]
  },
  {
   "cell_type": "code",
   "execution_count": 117,
   "metadata": {},
   "outputs": [],
   "source": [
    "frame['user'] = frame['시/군/구'] + '_' + frame['읍/면/동'] + '_' + frame['호수'].astype(str) + '_' + frame['contract_type'].astype(str)"
   ]
  },
  {
   "cell_type": "markdown",
   "metadata": {},
   "source": [
    "### 3. 필요한 Column 설정\n",
    "\n",
    "1. **영어로 통일 필요**\n",
    "    - `계약종별` =  `contract_type`\n",
    "    - `전력사용` =  `active_power` (단위 w or kW)  \n",
    "    \n",
    "    \n",
    "2. **필요한 컬럼 협의 필요**\n",
    "    - `datetime` \n",
    "    - `local` : `나주시 = 0`, `인천광역시 = 1`\n",
    "    - `user`\n",
    "    - `contract_type`\n",
    "    - `active_power`"
   ]
  },
  {
   "cell_type": "code",
   "execution_count": 118,
   "metadata": {},
   "outputs": [],
   "source": [
    "frame.loc[frame['시/도'] == '인천광역시', 'local'] = 1\n",
    "frame['local'] = frame['local'].astype(int)"
   ]
  },
  {
   "cell_type": "code",
   "execution_count": 119,
   "metadata": {},
   "outputs": [],
   "source": [
    "frame.rename(columns = {'전력사용' : 'active_power'}, inplace = True)\n",
    "column_list = ['datetime', 'local', 'user', 'contract_type', 'active_power']"
   ]
  },
  {
   "cell_type": "code",
   "execution_count": 120,
   "metadata": {},
   "outputs": [],
   "source": [
    "new_frame = frame[column_list]"
   ]
  },
  {
   "cell_type": "code",
   "execution_count": 121,
   "metadata": {},
   "outputs": [
    {
     "name": "stderr",
     "output_type": "stream",
     "text": [
      "/usr/anaconda3/lib/python3.7/site-packages/ipykernel_launcher.py:1: SettingWithCopyWarning: \n",
      "A value is trying to be set on a copy of a slice from a DataFrame.\n",
      "Try using .loc[row_indexer,col_indexer] = value instead\n",
      "\n",
      "See the caveats in the documentation: http://pandas.pydata.org/pandas-docs/stable/indexing.html#indexing-view-versus-copy\n",
      "  \"\"\"Entry point for launching an IPython kernel.\n"
     ]
    }
   ],
   "source": [
    "new_frame['active_power'] = (new_frame['active_power']/1000).round(3)"
   ]
  },
  {
   "cell_type": "code",
   "execution_count": 122,
   "metadata": {},
   "outputs": [
    {
     "data": {
      "text/html": [
       "<div>\n",
       "<style scoped>\n",
       "    .dataframe tbody tr th:only-of-type {\n",
       "        vertical-align: middle;\n",
       "    }\n",
       "\n",
       "    .dataframe tbody tr th {\n",
       "        vertical-align: top;\n",
       "    }\n",
       "\n",
       "    .dataframe thead th {\n",
       "        text-align: right;\n",
       "    }\n",
       "</style>\n",
       "<table border=\"1\" class=\"dataframe\">\n",
       "  <thead>\n",
       "    <tr style=\"text-align: right;\">\n",
       "      <th></th>\n",
       "      <th>datetime</th>\n",
       "      <th>local</th>\n",
       "      <th>user</th>\n",
       "      <th>contract_type</th>\n",
       "      <th>active_power</th>\n",
       "    </tr>\n",
       "  </thead>\n",
       "  <tbody>\n",
       "    <tr>\n",
       "      <th>0</th>\n",
       "      <td>2018-10-01 00:00:00</td>\n",
       "      <td>1</td>\n",
       "      <td>강화군_AA9동_6_0</td>\n",
       "      <td>0</td>\n",
       "      <td>0.002</td>\n",
       "    </tr>\n",
       "    <tr>\n",
       "      <th>1</th>\n",
       "      <td>2018-10-01 01:00:00</td>\n",
       "      <td>1</td>\n",
       "      <td>강화군_AA9동_6_0</td>\n",
       "      <td>0</td>\n",
       "      <td>0.002</td>\n",
       "    </tr>\n",
       "    <tr>\n",
       "      <th>2</th>\n",
       "      <td>2018-10-01 02:00:00</td>\n",
       "      <td>1</td>\n",
       "      <td>강화군_AA9동_6_0</td>\n",
       "      <td>0</td>\n",
       "      <td>0.001</td>\n",
       "    </tr>\n",
       "    <tr>\n",
       "      <th>3</th>\n",
       "      <td>2018-10-01 03:00:00</td>\n",
       "      <td>1</td>\n",
       "      <td>강화군_AA9동_6_0</td>\n",
       "      <td>0</td>\n",
       "      <td>0.001</td>\n",
       "    </tr>\n",
       "    <tr>\n",
       "      <th>4</th>\n",
       "      <td>2018-10-01 04:00:00</td>\n",
       "      <td>1</td>\n",
       "      <td>강화군_AA9동_6_0</td>\n",
       "      <td>0</td>\n",
       "      <td>0.002</td>\n",
       "    </tr>\n",
       "  </tbody>\n",
       "</table>\n",
       "</div>"
      ],
      "text/plain": [
       "             datetime  local          user  contract_type  active_power\n",
       "0 2018-10-01 00:00:00      1  강화군_AA9동_6_0              0         0.002\n",
       "1 2018-10-01 01:00:00      1  강화군_AA9동_6_0              0         0.002\n",
       "2 2018-10-01 02:00:00      1  강화군_AA9동_6_0              0         0.001\n",
       "3 2018-10-01 03:00:00      1  강화군_AA9동_6_0              0         0.001\n",
       "4 2018-10-01 04:00:00      1  강화군_AA9동_6_0              0         0.002"
      ]
     },
     "execution_count": 122,
     "metadata": {},
     "output_type": "execute_result"
    }
   ],
   "source": [
    "new_frame.head()"
   ]
  },
  {
   "cell_type": "markdown",
   "metadata": {},
   "source": [
    "### 4. 고객 분류 II\n",
    "\n",
    "#### 계약종별에 따른 dataframe 분리\n",
    "\n",
    "> **이유** : 소모하는 전력량 차이 있을것으로 판단, 비식별된 user가 계약종별로 중복되고 있음 발견!  \n",
    ">\n",
    "> **참고** : [한글 전기요금표](http://cyber.kepco.co.kr/ckepco/front/jsp/CY/E/E/CYEEHP00102.jsp) 에서 계약종 설명되어 있음\n",
    "- **df_group_A** : 주택용전력     (0) -> 저압(3kW 이하의 고객) 및 고압으로 구분\n",
    "- **df_group_B** : 일반용(갑)저압 (1) -> 계약 전력 300kW 미만 고객\n",
    "- **df_group_C** : 산업용(갑)저압 (2) -> 광업, 제조업 및 기타사업에 전력을 사용하는 계약전력 4kW 이상 300kW 미만의 고객\n",
    "- **df_group_D** : 심야전력(갑)   (3) -> ...\n",
    "- **df_group_E** : 농사용(을)저압 (4) -> 계약전력 1,000kW 미만의 고객으로 농사용전력(갑) 이외의 고객\n",
    "- **df_group_F** : 농사용(갑)     (5) -> 양곡생산을 위한 양수, 배수펌프 및 수문조작에 사용하는 전력\n",
    "- **df_group_G** : 교육용(갑)저압 (6) -> 계약전력 1,000kW 미만의 고객\n",
    "- **df_group_H** : 가로등(을)     (7) -> ..."
   ]
  },
  {
   "cell_type": "code",
   "execution_count": 144,
   "metadata": {},
   "outputs": [],
   "source": [
    "df_group_A = new_frame[new_frame['contract_type'] == 0].sort_values(by = 'datetime')\n",
    "df_group_B = new_frame[new_frame['contract_type'] == 1].sort_values(by = 'datetime')\n",
    "df_group_C = new_frame[new_frame['contract_type'] == 2].sort_values(by = 'datetime')\n",
    "df_group_D = new_frame[new_frame['contract_type'] == 3].sort_values(by = 'datetime')\n",
    "df_group_E = new_frame[new_frame['contract_type'] == 4].sort_values(by = 'datetime')\n",
    "df_group_F = new_frame[new_frame['contract_type'] == 5].sort_values(by = 'datetime')\n",
    "df_group_G = new_frame[new_frame['contract_type'] == 6].sort_values(by = 'datetime')\n",
    "df_group_H = new_frame[new_frame['contract_type'] == 7].sort_values(by = 'datetime')"
   ]
  },
  {
   "cell_type": "markdown",
   "metadata": {},
   "source": [
    "## EDA \n",
    "\n",
    "- 결측값 확인\n",
    "- 목표 : target은 12 hour 이후의 예측\n",
    "- LSTM 사용하면 학습에 필요한 sequence 고려해야함 (sequence = ?)"
   ]
  },
  {
   "cell_type": "markdown",
   "metadata": {},
   "source": [
    "### 그룹별로 결측값이 가장 적은 `상위 10개 user` 시각화"
   ]
  },
  {
   "cell_type": "code",
   "execution_count": 125,
   "metadata": {},
   "outputs": [],
   "source": [
    "def get_multiple_elements_in_list(in_list, in_dicies):\n",
    "    return [in_list[i] for i in in_dicies]"
   ]
  },
  {
   "cell_type": "code",
   "execution_count": 126,
   "metadata": {},
   "outputs": [
    {
     "data": {
      "text/html": [
       "<div>\n",
       "<style scoped>\n",
       "    .dataframe tbody tr th:only-of-type {\n",
       "        vertical-align: middle;\n",
       "    }\n",
       "\n",
       "    .dataframe tbody tr th {\n",
       "        vertical-align: top;\n",
       "    }\n",
       "\n",
       "    .dataframe thead th {\n",
       "        text-align: right;\n",
       "    }\n",
       "</style>\n",
       "<table border=\"1\" class=\"dataframe\">\n",
       "  <thead>\n",
       "    <tr style=\"text-align: right;\">\n",
       "      <th></th>\n",
       "      <th>datetime</th>\n",
       "      <th>active_power</th>\n",
       "    </tr>\n",
       "    <tr>\n",
       "      <th>user</th>\n",
       "      <th></th>\n",
       "      <th></th>\n",
       "    </tr>\n",
       "  </thead>\n",
       "  <tbody>\n",
       "    <tr>\n",
       "      <th>남동구_AA32동_5_0</th>\n",
       "      <td>5069</td>\n",
       "      <td>5069</td>\n",
       "    </tr>\n",
       "    <tr>\n",
       "      <th>부평구_AA8동_46_0</th>\n",
       "      <td>5068</td>\n",
       "      <td>5068</td>\n",
       "    </tr>\n",
       "    <tr>\n",
       "      <th>남동구_AA31동_7_0</th>\n",
       "      <td>5067</td>\n",
       "      <td>5067</td>\n",
       "    </tr>\n",
       "    <tr>\n",
       "      <th>강화군_AA9동_5_0</th>\n",
       "      <td>5066</td>\n",
       "      <td>5066</td>\n",
       "    </tr>\n",
       "    <tr>\n",
       "      <th>남동구_AA30동_5_0</th>\n",
       "      <td>5066</td>\n",
       "      <td>5066</td>\n",
       "    </tr>\n",
       "    <tr>\n",
       "      <th>중구_AA13동_9_0</th>\n",
       "      <td>5061</td>\n",
       "      <td>5061</td>\n",
       "    </tr>\n",
       "    <tr>\n",
       "      <th>남동구_AA6동_20_0</th>\n",
       "      <td>5060</td>\n",
       "      <td>5060</td>\n",
       "    </tr>\n",
       "    <tr>\n",
       "      <th>남동구_AA34동_6_0</th>\n",
       "      <td>5059</td>\n",
       "      <td>5059</td>\n",
       "    </tr>\n",
       "    <tr>\n",
       "      <th>중구_AA10동_88_0</th>\n",
       "      <td>5026</td>\n",
       "      <td>5026</td>\n",
       "    </tr>\n",
       "    <tr>\n",
       "      <th>남동구_AA4동_10_0</th>\n",
       "      <td>4977</td>\n",
       "      <td>4977</td>\n",
       "    </tr>\n",
       "  </tbody>\n",
       "</table>\n",
       "</div>"
      ],
      "text/plain": [
       "               datetime  active_power\n",
       "user                                 \n",
       "남동구_AA32동_5_0      5069          5069\n",
       "부평구_AA8동_46_0      5068          5068\n",
       "남동구_AA31동_7_0      5067          5067\n",
       "강화군_AA9동_5_0       5066          5066\n",
       "남동구_AA30동_5_0      5066          5066\n",
       "중구_AA13동_9_0       5061          5061\n",
       "남동구_AA6동_20_0      5060          5060\n",
       "남동구_AA34동_6_0      5059          5059\n",
       "중구_AA10동_88_0      5026          5026\n",
       "남동구_AA4동_10_0      4977          4977"
      ]
     },
     "execution_count": 126,
     "metadata": {},
     "output_type": "execute_result"
    }
   ],
   "source": [
    "df_group_A[(df_group_A['datetime'] >= '2017-8-1') & (df_group_A['datetime'] < '2018-3-1')][['user', 'datetime', 'active_power']].groupby('user').count().sort_values(by=['active_power'], ascending=False).head(10)"
   ]
  },
  {
   "cell_type": "code",
   "execution_count": 142,
   "metadata": {},
   "outputs": [],
   "source": [
    "import matplotlib.pylab as plt\n",
    "\n",
    "def df_multiple_visualize(df, counts, width, height, start_time = '2017-1-1', end_time = '2018-12-31'):\n",
    "    '''\n",
    "    Active power visualization function consisting of data frames\n",
    "    \n",
    "    # input\n",
    "    df : DataFrame\n",
    "    counts : 시각화하고 싶은 갯수\n",
    "    width : figsize width\n",
    "    height : figsize height\n",
    "    start_time : 시작 날짜(일 단위), e.g. \"2017-1-1\" \n",
    "    end_time : 종료 날짜(일 단위), e.g. \"2019-1-1\"    \n",
    "    \n",
    "    # output\n",
    "    lists : 시간 조건에 부합하는 구간에 관측된 데이터 갯수 (counts)\n",
    "    시각화 : 시간에 따른 id 별 유효전력 시각화\n",
    "    '''\n",
    "    \n",
    "    fig, axs = plt.subplots(counts, figsize=(width, height), constrained_layout=True, sharex=True, sharey=True)\n",
    "    # fig.suptitle('df_group_A_Top 10 Power')\n",
    "    \n",
    "    lists = list(df[(df['datetime'] >= start_time) & (df['datetime'] <= end_time)][['user', 'datetime', 'active_power']].groupby('user').count().sort_values(by=['active_power'], ascending=False).index[:counts])\n",
    "    # df[(df['datetime'] >= starttime) & (df['datetime'] < endtime)][['user', 'datetime', 'active_power']].groupby('user').count().sort_values(by=['active_power'], ascending=False).index[:counts]\n",
    "    \n",
    "    for i, j in enumerate(lists):\n",
    "        axs[i].plot(df[df['user'] == j]['datetime'], df[df['user'] == j]['active_power'], 'rs--')\n",
    "        axs[i].set_title(j + ' counts : ' + str(len(df[(df['user'] == j) & (df['datetime'] >= start_time) & (df['datetime'] <= end_time)]['active_power'])))\n",
    "        axs[i].set_ylabel(i)\n",
    "    plt.xlim(start_time, end_time)\n",
    "        \n",
    "    return lists"
   ]
  },
  {
   "cell_type": "markdown",
   "metadata": {},
   "source": [
    "### `인천광역시` 날씨 데이터 업로드\n",
    "\n"
   ]
  },
  {
   "cell_type": "code",
   "execution_count": 128,
   "metadata": {},
   "outputs": [],
   "source": [
    "# 2017년 ~ 2018년 날씨 data 취합\n",
    "\n",
    "path_list = [r'data/weather_data/IC']\n",
    "\n",
    "li = []\n",
    "for path in path_list:\n",
    "    all_files = glob.glob(path + \"/*.csv\")\n",
    "    for filename in all_files:\n",
    "        df = pd.read_csv(filename, index_col=None, header=None, encoding='euc-kr', names = ['precipitation','temperature', 'wind_speed', 'humidity'])\n",
    "        li.append(df)\n",
    "\n",
    "weather_data = pd.concat(li, axis=0, ignore_index=True).round(2)"
   ]
  },
  {
   "cell_type": "code",
   "execution_count": 137,
   "metadata": {},
   "outputs": [],
   "source": [
    "def df_to_csv(df, df_weather_data, user_list, start_time=\"2017-1-1\", end_time=\"2019-1-1\"):\n",
    "    '''\n",
    "    description : Dataframe을 csv로 출력해주는 함수 (user)\n",
    "    # input parameter \n",
    "    df : DataFrame\n",
    "    df_weather_data : 날씨 DataFrame\n",
    "    user_list : user 리스트 (1개 이상)\n",
    "    start_time : 시작 날짜(일 단위), e.g. \"2017-1-1\" \n",
    "    end_time : 종료 날짜(일 단위), e.g. \"2019-1-1\"\n",
    "    # Output parameter \n",
    "    따로 없으며, csv 파일을 \"preprocessed data/\"에 출력함 \n",
    "    \n",
    "    output column list\n",
    "    1. 'datetime'       : 15분 단위 시간\n",
    "    2. 'month'          : 월 (1 ~ 12)\n",
    "    3. 'week'           : 주 (1 ~ 52)\n",
    "    4. 'weekday'        : 월:0 ~ 일:6\n",
    "    5. 'day'            : 일\n",
    "    6. 'hour'           : 시간 (0 ~ 23)\n",
    "    7. 'is_holiday'     : 휴일:1, 비휴일:0\n",
    "    8. 'precipitation'  : 강수량\n",
    "    9. 'temperature'    : 온도\n",
    "    10. 'wind_speed'    : 풍속\n",
    "    11. 'humidity'      : 습도\n",
    "    12. 'local'         : 지역 \n",
    "    13. 'contract_type' : 계약종별\n",
    "    14, 'user'          : user (고유값)\n",
    "    15. 'active_power'  : 유효전력(kW)\n",
    "    '''\n",
    "    contract_type = df['contract_type'].unique()[0]\n",
    "    local = df['local'].unique()[0]\n",
    "    \n",
    "    standard_time = pd.date_range(start_time, end_time, freq=\"15T\")[:-1]  # 15분 단위로 시간 데이터 생성\n",
    "    df_standard_time = pd.DataFrame(standard_time, columns=['datetime'])  #\n",
    "    \n",
    "    # wheatehr_data\n",
    "    time = pd.date_range(\"2017-1-1\", \"2019-1-1\", freq=\"15T\")[:-1]\n",
    "    #df_time = pd.DataFrame(time, columns=['datetime'])\n",
    "    df_weather_data['datetime'] = time\n",
    "    \n",
    "    \n",
    "    for user in user_list:\n",
    "        # 불필요한 컬럼 제거하기!\n",
    "        \n",
    "        # 1. user별로 df 분할 및 '시간' 및 '유효전력' 컬럼 출력\n",
    "        temp_df = df[df['user'] == user]\n",
    "        \n",
    "        # 2. df merge\n",
    "        df_time_power = pd.merge(df_standard_time, temp_df, how = 'left')\n",
    "        df_time_power = pd.merge(df_time_power, df_weather_data, how = 'left')\n",
    "        # 3. Time으로부터 생성하는 변수 : month, week, weekday, day, hour\n",
    "        # weekend와 holiday를 이용하여, 휴일을 정의\n",
    "        # The month as January=1, December=12.\n",
    "        df_time_power['month'] = df_time_power['datetime'].dt.month\n",
    "        # The week ordinal of the year.\n",
    "        df_time_power['week'] = df_time_power['datetime'].dt.week\n",
    "        # The day of the week with Monday=0, Sunday=6.\n",
    "        df_time_power['weekday'] = df_time_power['datetime'].dt.weekday\n",
    "        # The weekend of the day with monday ~ friday = 0, saturday, sunday = 1\n",
    "        df_time_power['weekend'] = df_time_power['weekday'].map({0:0, 1:0, 2:0, 3:0, 4:0, 5:1, 6:1})\n",
    "\n",
    "        # The day of the 1~31\n",
    "        df_time_power['day'] = df_time_power['datetime'].dt.day\n",
    "        # The hour of the 0 ~ 23\n",
    "        df_time_power['hour'] = df_time_power['datetime'].dt.hour\n",
    "\n",
    "        # 공휴일(1) 및 평일(0) 구분\"\n",
    "        df_time_power['holiday'] = df_time_power['datetime'].dt.date.isin(holidays).astype(int)\n",
    "        df_time_power['is_holiday'] = (df_time_power['weekend'] + df_time_power['holiday']).map({0:0, 1:1, 2:1})\n",
    "        \n",
    "        \n",
    "        df_time_power = df_time_power[['datetime', 'month', 'week', 'weekday', 'day', 'hour', 'is_holiday', \n",
    "                                       'precipitation','temperature', 'wind_speed', 'humidity', \n",
    "                                       'local', 'contract_type', 'user', 'active_power']]\n",
    "\n",
    "        df_time_power['local'] = local\n",
    "        df_time_power['contract_type'] = contract_type\n",
    "        df_time_power['user'] = user\n",
    "        \n",
    "        # 4-1. 보간법 이후 평균 (셋째 자리서 반올림 하기)\n",
    "        # df_time_power = df_time_power.interpolate().round(3)\n",
    "        \n",
    "        # 4-2. \n",
    "        fill_mean_func = lambda g: g.fillna(g.mean())\n",
    "        df_time_power = df_time_power.groupby(['weekday', 'hour', 'is_holiday']).apply(fill_mean_func).round(3).sort_values('datetime')\n",
    "        \n",
    "        \n",
    "        # 4. csv 파일로 추출하기\n",
    "        df_time_power.to_csv('preprocessed data/' + user + '_' + str(contract_type) + '.csv', index=False)\n",
    "        print(\"'{0}.csv' file has been created.\".format(user))\n",
    "    print(\"finished !\")\n",
    "    return None"
   ]
  },
  {
   "cell_type": "markdown",
   "metadata": {},
   "source": [
    "### 주택용전력 시각화 (`contract_type = 0`)\n",
    "\n",
    "- step 1 : 2017-8-1 ~ 2018-2-28 까지의 유효전력 시각화 (상위 `n`개)\n",
    "- step 2 : 상위 10개를 csv 파일로 출력하기"
   ]
  },
  {
   "cell_type": "code",
   "execution_count": 145,
   "metadata": {
    "scrolled": false
   },
   "outputs": [
    {
     "name": "stderr",
     "output_type": "stream",
     "text": [
      "/usr/anaconda3/lib/python3.7/site-packages/matplotlib/backends/backend_agg.py:211: RuntimeWarning: Glyph 45224 missing from current font.\n",
      "  font.set_text(s, 0.0, flags=flags)\n",
      "/usr/anaconda3/lib/python3.7/site-packages/matplotlib/backends/backend_agg.py:211: RuntimeWarning: Glyph 46041 missing from current font.\n",
      "  font.set_text(s, 0.0, flags=flags)\n",
      "/usr/anaconda3/lib/python3.7/site-packages/matplotlib/backends/backend_agg.py:211: RuntimeWarning: Glyph 44396 missing from current font.\n",
      "  font.set_text(s, 0.0, flags=flags)\n",
      "/usr/anaconda3/lib/python3.7/site-packages/matplotlib/backends/backend_agg.py:211: RuntimeWarning: Glyph 48512 missing from current font.\n",
      "  font.set_text(s, 0.0, flags=flags)\n",
      "/usr/anaconda3/lib/python3.7/site-packages/matplotlib/backends/backend_agg.py:211: RuntimeWarning: Glyph 54217 missing from current font.\n",
      "  font.set_text(s, 0.0, flags=flags)\n",
      "/usr/anaconda3/lib/python3.7/site-packages/matplotlib/backends/backend_agg.py:211: RuntimeWarning: Glyph 44053 missing from current font.\n",
      "  font.set_text(s, 0.0, flags=flags)\n",
      "/usr/anaconda3/lib/python3.7/site-packages/matplotlib/backends/backend_agg.py:211: RuntimeWarning: Glyph 54868 missing from current font.\n",
      "  font.set_text(s, 0.0, flags=flags)\n",
      "/usr/anaconda3/lib/python3.7/site-packages/matplotlib/backends/backend_agg.py:211: RuntimeWarning: Glyph 44400 missing from current font.\n",
      "  font.set_text(s, 0.0, flags=flags)\n",
      "/usr/anaconda3/lib/python3.7/site-packages/matplotlib/backends/backend_agg.py:211: RuntimeWarning: Glyph 51473 missing from current font.\n",
      "  font.set_text(s, 0.0, flags=flags)\n",
      "/usr/anaconda3/lib/python3.7/site-packages/matplotlib/backends/backend_agg.py:180: RuntimeWarning: Glyph 45224 missing from current font.\n",
      "  font.set_text(s, 0, flags=flags)\n",
      "/usr/anaconda3/lib/python3.7/site-packages/matplotlib/backends/backend_agg.py:180: RuntimeWarning: Glyph 46041 missing from current font.\n",
      "  font.set_text(s, 0, flags=flags)\n",
      "/usr/anaconda3/lib/python3.7/site-packages/matplotlib/backends/backend_agg.py:180: RuntimeWarning: Glyph 44396 missing from current font.\n",
      "  font.set_text(s, 0, flags=flags)\n",
      "/usr/anaconda3/lib/python3.7/site-packages/matplotlib/backends/backend_agg.py:180: RuntimeWarning: Glyph 48512 missing from current font.\n",
      "  font.set_text(s, 0, flags=flags)\n",
      "/usr/anaconda3/lib/python3.7/site-packages/matplotlib/backends/backend_agg.py:180: RuntimeWarning: Glyph 54217 missing from current font.\n",
      "  font.set_text(s, 0, flags=flags)\n",
      "/usr/anaconda3/lib/python3.7/site-packages/matplotlib/backends/backend_agg.py:180: RuntimeWarning: Glyph 44053 missing from current font.\n",
      "  font.set_text(s, 0, flags=flags)\n",
      "/usr/anaconda3/lib/python3.7/site-packages/matplotlib/backends/backend_agg.py:180: RuntimeWarning: Glyph 54868 missing from current font.\n",
      "  font.set_text(s, 0, flags=flags)\n",
      "/usr/anaconda3/lib/python3.7/site-packages/matplotlib/backends/backend_agg.py:180: RuntimeWarning: Glyph 44400 missing from current font.\n",
      "  font.set_text(s, 0, flags=flags)\n",
      "/usr/anaconda3/lib/python3.7/site-packages/matplotlib/backends/backend_agg.py:180: RuntimeWarning: Glyph 51473 missing from current font.\n",
      "  font.set_text(s, 0, flags=flags)\n"
     ]
    },
    {
     "data": {
      "image/png": "[encoded data removed]",
      "text/plain": [
       "<Figure size 1080x1080 with 10 Axes>"
      ]
     },
     "metadata": {
      "needs_background": "light"
     },
     "output_type": "display_data"
    }
   ],
   "source": [
    "# step 1 : (상위 `10`개)\n",
    "df_group_A_lists = df_multiple_visualize(df_group_A, 10, 15, 15, start_time = '2017-8-1', end_time = '2018-2-28')"
   ]
  },
  {
   "cell_type": "markdown",
   "metadata": {},
   "source": [
    "### 일반용(갑)저압 시각화 (`contract_type = 1`)\n",
    "\n",
    "- step 1 : 2017-8-1 ~ 2018-2-28 까지의 유효전력 시각화 (상위 `n`개)\n",
    "- step 2 : 상위 10개를 csv 파일로 출력하기"
   ]
  },
  {
   "cell_type": "code",
   "execution_count": 146,
   "metadata": {
    "scrolled": false
   },
   "outputs": [
    {
     "name": "stderr",
     "output_type": "stream",
     "text": [
      "/usr/anaconda3/lib/python3.7/site-packages/matplotlib/backends/backend_agg.py:211: RuntimeWarning: Glyph 45224 missing from current font.\n",
      "  font.set_text(s, 0.0, flags=flags)\n",
      "/usr/anaconda3/lib/python3.7/site-packages/matplotlib/backends/backend_agg.py:211: RuntimeWarning: Glyph 46041 missing from current font.\n",
      "  font.set_text(s, 0.0, flags=flags)\n",
      "/usr/anaconda3/lib/python3.7/site-packages/matplotlib/backends/backend_agg.py:211: RuntimeWarning: Glyph 44396 missing from current font.\n",
      "  font.set_text(s, 0.0, flags=flags)\n",
      "/usr/anaconda3/lib/python3.7/site-packages/matplotlib/backends/backend_agg.py:211: RuntimeWarning: Glyph 48512 missing from current font.\n",
      "  font.set_text(s, 0.0, flags=flags)\n",
      "/usr/anaconda3/lib/python3.7/site-packages/matplotlib/backends/backend_agg.py:211: RuntimeWarning: Glyph 54217 missing from current font.\n",
      "  font.set_text(s, 0.0, flags=flags)\n",
      "/usr/anaconda3/lib/python3.7/site-packages/matplotlib/backends/backend_agg.py:211: RuntimeWarning: Glyph 51473 missing from current font.\n",
      "  font.set_text(s, 0.0, flags=flags)\n",
      "/usr/anaconda3/lib/python3.7/site-packages/matplotlib/backends/backend_agg.py:211: RuntimeWarning: Glyph 48120 missing from current font.\n",
      "  font.set_text(s, 0.0, flags=flags)\n",
      "/usr/anaconda3/lib/python3.7/site-packages/matplotlib/backends/backend_agg.py:211: RuntimeWarning: Glyph 52628 missing from current font.\n",
      "  font.set_text(s, 0.0, flags=flags)\n",
      "/usr/anaconda3/lib/python3.7/site-packages/matplotlib/backends/backend_agg.py:211: RuntimeWarning: Glyph 54848 missing from current font.\n",
      "  font.set_text(s, 0.0, flags=flags)\n",
      "/usr/anaconda3/lib/python3.7/site-packages/matplotlib/backends/backend_agg.py:180: RuntimeWarning: Glyph 45224 missing from current font.\n",
      "  font.set_text(s, 0, flags=flags)\n",
      "/usr/anaconda3/lib/python3.7/site-packages/matplotlib/backends/backend_agg.py:180: RuntimeWarning: Glyph 46041 missing from current font.\n",
      "  font.set_text(s, 0, flags=flags)\n",
      "/usr/anaconda3/lib/python3.7/site-packages/matplotlib/backends/backend_agg.py:180: RuntimeWarning: Glyph 44396 missing from current font.\n",
      "  font.set_text(s, 0, flags=flags)\n",
      "/usr/anaconda3/lib/python3.7/site-packages/matplotlib/backends/backend_agg.py:180: RuntimeWarning: Glyph 48512 missing from current font.\n",
      "  font.set_text(s, 0, flags=flags)\n",
      "/usr/anaconda3/lib/python3.7/site-packages/matplotlib/backends/backend_agg.py:180: RuntimeWarning: Glyph 54217 missing from current font.\n",
      "  font.set_text(s, 0, flags=flags)\n",
      "/usr/anaconda3/lib/python3.7/site-packages/matplotlib/backends/backend_agg.py:180: RuntimeWarning: Glyph 51473 missing from current font.\n",
      "  font.set_text(s, 0, flags=flags)\n",
      "/usr/anaconda3/lib/python3.7/site-packages/matplotlib/backends/backend_agg.py:180: RuntimeWarning: Glyph 48120 missing from current font.\n",
      "  font.set_text(s, 0, flags=flags)\n",
      "/usr/anaconda3/lib/python3.7/site-packages/matplotlib/backends/backend_agg.py:180: RuntimeWarning: Glyph 52628 missing from current font.\n",
      "  font.set_text(s, 0, flags=flags)\n",
      "/usr/anaconda3/lib/python3.7/site-packages/matplotlib/backends/backend_agg.py:180: RuntimeWarning: Glyph 54848 missing from current font.\n",
      "  font.set_text(s, 0, flags=flags)\n"
     ]
    },
    {
     "data": {
      "image/png": "[encoded data removed]",
      "text/plain": [
       "<Figure size 1080x1080 with 10 Axes>"
      ]
     },
     "metadata": {
      "needs_background": "light"
     },
     "output_type": "display_data"
    }
   ],
   "source": [
    "# 일반용(갑)저압 시각화\n",
    "# step 1 : (상위 `10`개)\n",
    "df_group_B_lists = df_multiple_visualize(df_group_B, 10, 15, 15, start_time = '2017-8-1', end_time = '2018-2-28')"
   ]
  }
 ],
 "metadata": {
  "kernelspec": {
   "display_name": "Python 3",
   "language": "python",
   "name": "python3"
  },
  "language_info": {
   "codemirror_mode": {
    "name": "ipython",
    "version": 3
   },
   "file_extension": ".py",
   "mimetype": "text/x-python",
   "name": "python",
   "nbconvert_exporter": "python",
   "pygments_lexer": "ipython3",
   "version": "3.7.3"
  }
 },
 "nbformat": 4,
 "nbformat_minor": 2
}
