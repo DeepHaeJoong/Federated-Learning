{
 "cells": [
  {
   "cell_type": "code",
   "execution_count": 29,
   "metadata": {},
   "outputs": [],
   "source": [
    "import pandas as pd"
   ]
  },
  {
   "cell_type": "markdown",
   "metadata": {},
   "source": [
    "#### `csv`파일 읽기"
   ]
  },
  {
   "cell_type": "markdown",
   "metadata": {},
   "source": [
    "- datetime : 시간 (index)\n",
    "- month : 월 변수\n",
    "- week : 주 변수 (1월을 시작으로 순차적으로)\n",
    "- weekday : 요일 변수 [월(0), 화(1), 수(2), 목(3), 금(4), 토(5), 일(6)]\n",
    "- day : 일 변수 [1일  ~ 31일 or 30일]\n",
    "- hour : 시간 변수\n",
    "- is_holiday : 휴일 변수 [공휴일 및 토/일 포함 (1), 비공휴일(0)]\n",
    "- precipitation : 강수량 변수 \n",
    "- temperature : 온도 변수\n",
    "- wind_speed : 풍속 변수\n",
    "- humidity : 습도 변수\n",
    "- local : 지역 변수 [나주(0), 인천(1)]\n",
    "- contract_type : 계약종별 [가정용(0), 일반용(갑)저압(1)]\n",
    "- user : 사용자 변수\n",
    "- active_power : 유효전력 (목표값, 소수점 셋째자리 까지 표현, 단위 kW)"
   ]
  },
  {
   "cell_type": "code",
   "execution_count": 58,
   "metadata": {},
   "outputs": [],
   "source": [
    "import pandas as pd\n",
    "import glob\n",
    "\n",
    "path_list = [r'preprocessed data/']\n",
    "li = []\n",
    "for path in path_list:\n",
    "    all_files = glob.glob(path + \"/*.csv\")\n",
    "    for filename in all_files:\n",
    "        df = pd.read_csv(filename, index_col=None, header=0)\n",
    "        li.append(df)\n",
    "\n",
    "frame = pd.concat(li, axis=0, ignore_index=True)"
   ]
  }
 ],
 "metadata": {
  "kernelspec": {
   "display_name": "Python 3",
   "language": "python",
   "name": "python3"
  },
  "language_info": {
   "codemirror_mode": {
    "name": "ipython",
    "version": 3
   },
   "file_extension": ".py",
   "mimetype": "text/x-python",
   "name": "python",
   "nbconvert_exporter": "python",
   "pygments_lexer": "ipython3",
   "version": "3.7.3"
  }
 },
 "nbformat": 4,
 "nbformat_minor": 2
}
