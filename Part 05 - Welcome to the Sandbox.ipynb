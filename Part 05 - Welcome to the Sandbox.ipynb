{
 "cells": [
  {
   "cell_type": "markdown",
   "metadata": {},
   "source": [
    "## Part 05 - Welcome to the Sandbox\n",
    "---"
   ]
  },
  {
   "cell_type": "code",
   "execution_count": 1,
   "metadata": {
    "scrolled": false
   },
   "outputs": [
    {
     "name": "stdout",
     "output_type": "stream",
     "text": [
      "Setting up Sandbox...\n",
      "\t- Hooking PyTorch\n",
      "\t- Creating Virtual Workers:\n",
      "\t\t- bob\n",
      "\t\t- theo\n",
      "\t\t- jason\n",
      "\t\t- alice\n",
      "\t\t- andy\n",
      "\t\t- jon\n",
      "\tStoring hook and workers as global variables...\n",
      "\tLoading datasets from SciKit Learn...\n",
      "\t\t- Boston Housing Dataset\n",
      "\t\t- Diabetes Dataset\n",
      "\t\t- Breast Cancer Dataset\n",
      "\t- Digits Dataset\n",
      "\t\t- Iris Dataset\n",
      "\t\t- Wine Dataset\n",
      "\t\t- Linnerud Dataset\n",
      "\tDistributing Datasets Amongst Workers...\n",
      "\tCollecting workers into a VirtualGrid...\n",
      "Done!\n"
     ]
    }
   ],
   "source": [
    "import torch\n",
    "import syft as sy\n",
    "sy.create_sandbox(globals())"
   ]
  },
  {
   "cell_type": "code",
   "execution_count": 3,
   "metadata": {},
   "outputs": [
    {
     "data": {
      "text/plain": [
       "[<VirtualWorker id:bob #objects:14>,\n",
       " <VirtualWorker id:theo #objects:14>,\n",
       " <VirtualWorker id:jason #objects:14>,\n",
       " <VirtualWorker id:alice #objects:14>,\n",
       " <VirtualWorker id:andy #objects:14>,\n",
       " <VirtualWorker id:jon #objects:14>]"
      ]
     },
     "execution_count": 3,
     "metadata": {},
     "output_type": "execute_result"
    }
   ],
   "source": [
    "workers"
   ]
  },
  {
   "cell_type": "code",
   "execution_count": 4,
   "metadata": {},
   "outputs": [
    {
     "data": {
      "text/plain": [
       "<syft.frameworks.torch.hook.hook.TorchHook at 0x7f0f9006ce10>"
      ]
     },
     "execution_count": 4,
     "metadata": {},
     "output_type": "execute_result"
    }
   ],
   "source": [
    "hook"
   ]
  },
  {
   "cell_type": "code",
   "execution_count": 6,
   "metadata": {
    "scrolled": true
   },
   "outputs": [
    {
     "data": {
      "text/plain": [
       "<VirtualWorker id:bob #objects:14>"
      ]
     },
     "execution_count": 6,
     "metadata": {},
     "output_type": "execute_result"
    }
   ],
   "source": [
    "bob"
   ]
  },
  {
   "cell_type": "markdown",
   "metadata": {},
   "source": [
    "### Part 2: Worker Search Functionality\n",
    "\n",
    "One important aspect of doing remote data science is that we want the ability to search for datasets on a remote machine. Think of a research lab wanting to query hospitals for maybe \"radio\" datasets."
   ]
  },
  {
   "cell_type": "code",
   "execution_count": 7,
   "metadata": {},
   "outputs": [],
   "source": [
    "x = torch.tensor([1,2,3,4,5]).tag(\"#fun\", \"#boston\", \"#housing\").describe(\"The input datapoints to the boston housing dataset.\")\n",
    "y = torch.tensor([1,2,3,4,5]).tag(\"#fun\", \"#boston\", \"#housing\").describe(\"The input datapoints to the boston housing dataset.\")\n",
    "z = torch.tensor([1,2,3,4,5]).tag(\"#fun\", \"#mnist\",).describe(\"The images in the MNIST training dataset.\")"
   ]
  },
  {
   "cell_type": "code",
   "execution_count": 8,
   "metadata": {},
   "outputs": [
    {
     "data": {
      "text/plain": [
       "tensor([1, 2, 3, 4, 5])\n",
       "\tTags: #housing #boston #fun \n",
       "\tDescription: The input datapoints to the boston housing dataset....\n",
       "\tShape: torch.Size([5])"
      ]
     },
     "execution_count": 8,
     "metadata": {},
     "output_type": "execute_result"
    }
   ],
   "source": [
    "x"
   ]
  },
  {
   "cell_type": "code",
   "execution_count": 9,
   "metadata": {},
   "outputs": [],
   "source": [
    "x = x.send(bob)\n",
    "y = y.send(bob)\n",
    "z = z.send(bob)\n",
    "\n",
    "# this searches for exact match within a tag or within the description\n",
    "results = bob.search([\"#boston\", \"#housing\"])"
   ]
  },
  {
   "cell_type": "code",
   "execution_count": 12,
   "metadata": {},
   "outputs": [
    {
     "data": {
      "text/plain": [
       "[tensor([24.0000, 21.6000, 34.7000, 33.4000, 36.2000, 28.7000, 22.9000, 27.1000,\n",
       "         16.5000, 18.9000, 15.0000, 18.9000, 21.7000, 20.4000, 18.2000, 19.9000,\n",
       "         23.1000, 17.5000, 20.2000, 18.2000, 13.6000, 19.6000, 15.2000, 14.5000,\n",
       "         15.6000, 13.9000, 16.6000, 14.8000, 18.4000, 21.0000, 12.7000, 14.5000,\n",
       "         13.2000, 13.1000, 13.5000, 18.9000, 20.0000, 21.0000, 24.7000, 30.8000,\n",
       "         34.9000, 26.6000, 25.3000, 24.7000, 21.2000, 19.3000, 20.0000, 16.6000,\n",
       "         14.4000, 19.4000, 19.7000, 20.5000, 25.0000, 23.4000, 18.9000, 35.4000,\n",
       "         24.7000, 31.6000, 23.3000, 19.6000, 18.7000, 16.0000, 22.2000, 25.0000,\n",
       "         33.0000, 23.5000, 19.4000, 22.0000, 17.4000, 20.9000, 24.2000, 21.7000,\n",
       "         22.8000, 23.4000, 24.1000, 21.4000, 20.0000, 20.8000, 21.2000, 20.3000,\n",
       "         28.0000, 23.9000, 24.8000, 22.9000])\n",
       " \tTags: boston house dataset #housing prices #boston #target #boston_housing \n",
       " \tDescription: Boston House Prices dataset...\n",
       " \tShape: torch.Size([84]),\n",
       " tensor([[6.3200e-03, 1.8000e+01, 2.3100e+00,  ..., 1.5300e+01, 3.9690e+02,\n",
       "          4.9800e+00],\n",
       "         [2.7310e-02, 0.0000e+00, 7.0700e+00,  ..., 1.7800e+01, 3.9690e+02,\n",
       "          9.1400e+00],\n",
       "         [2.7290e-02, 0.0000e+00, 7.0700e+00,  ..., 1.7800e+01, 3.9283e+02,\n",
       "          4.0300e+00],\n",
       "         ...,\n",
       "         [4.4620e-02, 2.5000e+01, 4.8600e+00,  ..., 1.9000e+01, 3.9563e+02,\n",
       "          7.2200e+00],\n",
       "         [3.6590e-02, 2.5000e+01, 4.8600e+00,  ..., 1.9000e+01, 3.9690e+02,\n",
       "          6.7200e+00],\n",
       "         [3.5510e-02, 2.5000e+01, 4.8600e+00,  ..., 1.9000e+01, 3.9064e+02,\n",
       "          7.5100e+00]])\n",
       " \tTags: boston house #data dataset #housing prices #boston #boston_housing \n",
       " \tDescription: Boston House Prices dataset...\n",
       " \tShape: torch.Size([84, 13]),\n",
       " tensor([1, 2, 3, 4, 5])\n",
       " \tTags: #housing #boston #fun \n",
       " \tDescription: The input datapoints to the boston housing dataset....\n",
       " \tShape: torch.Size([5]),\n",
       " tensor([1, 2, 3, 4, 5])\n",
       " \tTags: #housing #boston #fun \n",
       " \tDescription: The input datapoints to the boston housing dataset....\n",
       " \tShape: torch.Size([5])]"
      ]
     },
     "execution_count": 12,
     "metadata": {},
     "output_type": "execute_result"
    }
   ],
   "source": [
    "results"
   ]
  },
  {
   "cell_type": "code",
   "execution_count": 13,
   "metadata": {},
   "outputs": [
    {
     "name": "stdout",
     "output_type": "stream",
     "text": [
      "Boston House Prices dataset\n",
      "===========================\n",
      "\n",
      "Notes\n",
      "------\n",
      "Data Set Characteristics:  \n",
      "\n",
      "    :Number of Instances: 506 \n",
      "\n",
      "    :Number of Attributes: 13 numeric/categorical predictive\n",
      "    \n",
      "    :Median Value (attribute 14) is usually the target\n",
      "\n",
      "    :Attribute Information (in order):\n",
      "        - CRIM     per capita crime rate by town\n",
      "        - ZN       proportion of residential land zoned for lots over 25,000 sq.ft.\n",
      "        - INDUS    proportion of non-retail business acres per town\n",
      "        - CHAS     Charles River dummy variable (= 1 if tract bounds river; 0 otherwise)\n",
      "        - NOX      nitric oxides concentration (parts per 10 million)\n",
      "        - RM       average number of rooms per dwelling\n",
      "        - AGE      proportion of owner-occupied units built prior to 1940\n",
      "        - DIS      weighted distances to five Boston employment centres\n",
      "        - RAD      index of accessibility to radial highways\n",
      "        - TAX      full-value property-tax rate per $10,000\n",
      "        - PTRATIO  pupil-teacher ratio by town\n",
      "        - B        1000(Bk - 0.63)^2 where Bk is the proportion of blacks by town\n",
      "        - LSTAT    % lower status of the population\n",
      "        - MEDV     Median value of owner-occupied homes in $1000's\n",
      "\n",
      "    :Missing Attribute Values: None\n",
      "\n",
      "    :Creator: Harrison, D. and Rubinfeld, D.L.\n",
      "\n",
      "This is a copy of UCI ML housing dataset.\n",
      "http://archive.ics.uci.edu/ml/datasets/Housing\n",
      "\n",
      "\n",
      "This dataset was taken from the StatLib library which is maintained at Carnegie Mellon University.\n",
      "\n",
      "The Boston house-price data of Harrison, D. and Rubinfeld, D.L. 'Hedonic\n",
      "prices and the demand for clean air', J. Environ. Economics & Management,\n",
      "vol.5, 81-102, 1978.   Used in Belsley, Kuh & Welsch, 'Regression diagnostics\n",
      "...', Wiley, 1980.   N.B. Various transformations are used in the table on\n",
      "pages 244-261 of the latter.\n",
      "\n",
      "The Boston house-price data has been used in many machine learning papers that address regression\n",
      "problems.   \n",
      "     \n",
      "**References**\n",
      "\n",
      "   - Belsley, Kuh & Welsch, 'Regression diagnostics: Identifying Influential Data and Sources of Collinearity', Wiley, 1980. 244-261.\n",
      "   - Quinlan,R. (1993). Combining Instance-Based and Model-Based Learning. In Proceedings on the Tenth International Conference of Machine Learning, 236-243, University of Massachusetts, Amherst. Morgan Kaufmann.\n",
      "   - many more! (see http://archive.ics.uci.edu/ml/datasets/Housing)\n",
      "\n"
     ]
    }
   ],
   "source": [
    "print(results[0].description)"
   ]
  },
  {
   "cell_type": "markdown",
   "metadata": {},
   "source": [
    "### Part 3: Virtual Grid\n",
    "\n",
    "A Grid is simply a collection of workers which gives you some convenience functions for when you want to put together a dataset."
   ]
  },
  {
   "cell_type": "code",
   "execution_count": 14,
   "metadata": {},
   "outputs": [],
   "source": [
    "grid = sy.PrivateGridNetwork(*workers)"
   ]
  },
  {
   "cell_type": "code",
   "execution_count": 18,
   "metadata": {
    "scrolled": true
   },
   "outputs": [
    {
     "data": {
      "text/plain": [
       "<syft.grid.private_grid.PrivateGridNetwork at 0x7f0ebc2aaeb8>"
      ]
     },
     "execution_count": 18,
     "metadata": {},
     "output_type": "execute_result"
    }
   ],
   "source": [
    "grid"
   ]
  },
  {
   "cell_type": "code",
   "execution_count": 19,
   "metadata": {},
   "outputs": [],
   "source": [
    "results = grid.search(\"#boston\")"
   ]
  },
  {
   "cell_type": "code",
   "execution_count": 20,
   "metadata": {},
   "outputs": [
    {
     "data": {
      "text/plain": [
       "{'bob': [(Wrapper)>[PointerTensor | me:49739013122 -> bob:87759232803]\n",
       "  \tTags: boston house dataset #housing prices #boston #target #boston_housing \n",
       "  \tShape: torch.Size([84])\n",
       "  \tDescription: Boston House Prices dataset...,\n",
       "  (Wrapper)>[PointerTensor | me:79448788913 -> bob:99179730283]\n",
       "  \tTags: boston house #data dataset #housing prices #boston #boston_housing \n",
       "  \tShape: torch.Size([84, 13])\n",
       "  \tDescription: Boston House Prices dataset...,\n",
       "  (Wrapper)>[PointerTensor | me:37738614135 -> bob:10007274268]\n",
       "  \tTags: #housing #boston #fun \n",
       "  \tShape: torch.Size([5])\n",
       "  \tDescription: The input datapoints to the boston housing dataset....,\n",
       "  (Wrapper)>[PointerTensor | me:75615531297 -> bob:305795269]\n",
       "  \tTags: #housing #boston #fun \n",
       "  \tShape: torch.Size([5])\n",
       "  \tDescription: The input datapoints to the boston housing dataset....],\n",
       " 'theo': [(Wrapper)>[PointerTensor | me:57662060081 -> theo:55493740746]\n",
       "  \tTags: boston house #data dataset #housing prices #boston #boston_housing \n",
       "  \tShape: torch.Size([84, 13])\n",
       "  \tDescription: Boston House Prices dataset...,\n",
       "  (Wrapper)>[PointerTensor | me:34886245338 -> theo:56879131605]\n",
       "  \tTags: boston house dataset #housing prices #boston #target #boston_housing \n",
       "  \tShape: torch.Size([84])\n",
       "  \tDescription: Boston House Prices dataset...],\n",
       " 'jason': [(Wrapper)>[PointerTensor | me:45233101334 -> jason:31489425283]\n",
       "  \tTags: boston house dataset #housing prices #boston #target #boston_housing \n",
       "  \tShape: torch.Size([84])\n",
       "  \tDescription: Boston House Prices dataset...,\n",
       "  (Wrapper)>[PointerTensor | me:96180833402 -> jason:33384627037]\n",
       "  \tTags: boston house #data dataset #housing prices #boston #boston_housing \n",
       "  \tShape: torch.Size([84, 13])\n",
       "  \tDescription: Boston House Prices dataset...],\n",
       " 'alice': [(Wrapper)>[PointerTensor | me:89278958208 -> alice:83731046225]\n",
       "  \tTags: boston house dataset #housing prices #boston #target #boston_housing \n",
       "  \tShape: torch.Size([84])\n",
       "  \tDescription: Boston House Prices dataset...,\n",
       "  (Wrapper)>[PointerTensor | me:99818853803 -> alice:59681544347]\n",
       "  \tTags: boston house #data dataset #housing prices #boston #boston_housing \n",
       "  \tShape: torch.Size([84, 13])\n",
       "  \tDescription: Boston House Prices dataset...],\n",
       " 'andy': [(Wrapper)>[PointerTensor | me:13206856679 -> andy:88083787790]\n",
       "  \tTags: boston house #data dataset #housing prices #boston #boston_housing \n",
       "  \tShape: torch.Size([84, 13])\n",
       "  \tDescription: Boston House Prices dataset...,\n",
       "  (Wrapper)>[PointerTensor | me:63130461945 -> andy:13335673079]\n",
       "  \tTags: boston house dataset #housing prices #boston #target #boston_housing \n",
       "  \tShape: torch.Size([84])\n",
       "  \tDescription: Boston House Prices dataset...],\n",
       " 'jon': [(Wrapper)>[PointerTensor | me:85428406631 -> jon:16429408700]\n",
       "  \tTags: boston house dataset #housing prices #boston #target #boston_housing \n",
       "  \tShape: torch.Size([86])\n",
       "  \tDescription: Boston House Prices dataset...,\n",
       "  (Wrapper)>[PointerTensor | me:89497212607 -> jon:43756300894]\n",
       "  \tTags: boston house #data dataset #housing prices #boston #boston_housing \n",
       "  \tShape: torch.Size([86, 13])\n",
       "  \tDescription: Boston House Prices dataset...]}"
      ]
     },
     "execution_count": 20,
     "metadata": {},
     "output_type": "execute_result"
    }
   ],
   "source": [
    "results"
   ]
  },
  {
   "cell_type": "code",
   "execution_count": 21,
   "metadata": {},
   "outputs": [],
   "source": [
    "boston_data = grid.search(\"#boston\",\"#data\")"
   ]
  },
  {
   "cell_type": "code",
   "execution_count": 22,
   "metadata": {},
   "outputs": [
    {
     "data": {
      "text/plain": [
       "{'bob': [(Wrapper)>[PointerTensor | me:47034169776 -> bob:99179730283]\n",
       "  \tTags: boston house #data dataset #housing prices #boston #boston_housing \n",
       "  \tShape: torch.Size([84, 13])\n",
       "  \tDescription: Boston House Prices dataset...],\n",
       " 'theo': [(Wrapper)>[PointerTensor | me:96818311149 -> theo:55493740746]\n",
       "  \tTags: boston house #data dataset #housing prices #boston #boston_housing \n",
       "  \tShape: torch.Size([84, 13])\n",
       "  \tDescription: Boston House Prices dataset...],\n",
       " 'jason': [(Wrapper)>[PointerTensor | me:25601582633 -> jason:33384627037]\n",
       "  \tTags: boston house #data dataset #housing prices #boston #boston_housing \n",
       "  \tShape: torch.Size([84, 13])\n",
       "  \tDescription: Boston House Prices dataset...],\n",
       " 'alice': [(Wrapper)>[PointerTensor | me:39012924975 -> alice:59681544347]\n",
       "  \tTags: boston house #data dataset #housing prices #boston #boston_housing \n",
       "  \tShape: torch.Size([84, 13])\n",
       "  \tDescription: Boston House Prices dataset...],\n",
       " 'andy': [(Wrapper)>[PointerTensor | me:8491578816 -> andy:88083787790]\n",
       "  \tTags: boston house #data dataset #housing prices #boston #boston_housing \n",
       "  \tShape: torch.Size([84, 13])\n",
       "  \tDescription: Boston House Prices dataset...],\n",
       " 'jon': [(Wrapper)>[PointerTensor | me:501080113 -> jon:43756300894]\n",
       "  \tTags: boston house #data dataset #housing prices #boston #boston_housing \n",
       "  \tShape: torch.Size([86, 13])\n",
       "  \tDescription: Boston House Prices dataset...]}"
      ]
     },
     "execution_count": 22,
     "metadata": {},
     "output_type": "execute_result"
    }
   ],
   "source": [
    "boston_data"
   ]
  },
  {
   "cell_type": "code",
   "execution_count": 23,
   "metadata": {},
   "outputs": [],
   "source": [
    "boston_target = grid.search(\"#boston\",\"#target\")"
   ]
  },
  {
   "cell_type": "code",
   "execution_count": 24,
   "metadata": {},
   "outputs": [
    {
     "data": {
      "text/plain": [
       "{'bob': [(Wrapper)>[PointerTensor | me:94102967635 -> bob:87759232803]\n",
       "  \tTags: boston house dataset #housing prices #boston #target #boston_housing \n",
       "  \tShape: torch.Size([84])\n",
       "  \tDescription: Boston House Prices dataset...],\n",
       " 'theo': [(Wrapper)>[PointerTensor | me:9841104180 -> theo:56879131605]\n",
       "  \tTags: boston house dataset #housing prices #boston #target #boston_housing \n",
       "  \tShape: torch.Size([84])\n",
       "  \tDescription: Boston House Prices dataset...],\n",
       " 'jason': [(Wrapper)>[PointerTensor | me:75957493156 -> jason:31489425283]\n",
       "  \tTags: boston house dataset #housing prices #boston #target #boston_housing \n",
       "  \tShape: torch.Size([84])\n",
       "  \tDescription: Boston House Prices dataset...],\n",
       " 'alice': [(Wrapper)>[PointerTensor | me:40462578075 -> alice:83731046225]\n",
       "  \tTags: boston house dataset #housing prices #boston #target #boston_housing \n",
       "  \tShape: torch.Size([84])\n",
       "  \tDescription: Boston House Prices dataset...],\n",
       " 'andy': [(Wrapper)>[PointerTensor | me:620688259 -> andy:13335673079]\n",
       "  \tTags: boston house dataset #housing prices #boston #target #boston_housing \n",
       "  \tShape: torch.Size([84])\n",
       "  \tDescription: Boston House Prices dataset...],\n",
       " 'jon': [(Wrapper)>[PointerTensor | me:89769252887 -> jon:16429408700]\n",
       "  \tTags: boston house dataset #housing prices #boston #target #boston_housing \n",
       "  \tShape: torch.Size([86])\n",
       "  \tDescription: Boston House Prices dataset...]}"
      ]
     },
     "execution_count": 24,
     "metadata": {},
     "output_type": "execute_result"
    }
   ],
   "source": [
    "boston_target"
   ]
  }
 ],
 "metadata": {
  "kernelspec": {
   "display_name": "Python 3",
   "language": "python",
   "name": "python3"
  },
  "language_info": {
   "codemirror_mode": {
    "name": "ipython",
    "version": 3
   },
   "file_extension": ".py",
   "mimetype": "text/x-python",
   "name": "python",
   "nbconvert_exporter": "python",
   "pygments_lexer": "ipython3",
   "version": "3.7.3"
  }
 },
 "nbformat": 4,
 "nbformat_minor": 2
}
